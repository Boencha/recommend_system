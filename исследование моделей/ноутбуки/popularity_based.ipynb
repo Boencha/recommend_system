{
 "cells": [
  {
   "cell_type": "code",
   "execution_count": null,
   "metadata": {
    "id": "nUERU7LbW6gh"
   },
   "outputs": [
    {
     "ename": "",
     "evalue": "",
     "output_type": "error",
     "traceback": [
      "\u001b[1;31mДля выполнения ячеек с \"Python 3.12.2\" требуется пакет ipykernel.\n",
      "\u001b[1;31mВыполните следующую команду, чтобы установить \"ipykernel\" в среде Python. \n",
      "\u001b[1;31mКоманда: \"/opt/homebrew/bin/python3 -m pip install ipykernel -U --user --force-reinstall\""
     ]
    }
   ],
   "source": [
    "import pandas as pd\n",
    "import numpy as np\n",
    "import matplotlib.pyplot as plt\n",
    "import seaborn as sns\n",
    "from scipy import stats\n",
    "from ast import literal_eval\n",
    "from sklearn.feature_extraction.text import TfidfVectorizer, CountVectorizer\n",
    "from sklearn.metrics.pairwise import linear_kernel, cosine_similarity\n",
    "from nltk.stem.snowball import SnowballStemmer\n",
    "from nltk.stem.wordnet import WordNetLemmatizer\n",
    "from nltk.corpus import wordnet\n",
    "import functools\n",
    "\n",
    "import warnings\n",
    "warnings.filterwarnings('ignore')"
   ]
  },
  {
   "cell_type": "code",
   "execution_count": null,
   "metadata": {
    "colab": {
     "base_uri": "https://localhost:8080/",
     "height": 463
    },
    "id": "KSFomRvvuYAO",
    "outputId": "3feda743-77b1-4854-a644-500b7d764b49"
   },
   "outputs": [],
   "source": [
    "movies = pd.read_csv('movies_metadata.csv')\n",
    "movies.head(3)"
   ]
  },
  {
   "cell_type": "code",
   "execution_count": null,
   "metadata": {
    "colab": {
     "base_uri": "https://localhost:8080/"
    },
    "id": "d0lVKI_txCyg",
    "outputId": "0d742504-f46e-43f9-8406-2d8fb4e1401a"
   },
   "outputs": [],
   "source": [
    "movies.shape"
   ]
  },
  {
   "cell_type": "code",
   "execution_count": null,
   "metadata": {
    "colab": {
     "base_uri": "https://localhost:8080/",
     "height": 176
    },
    "id": "VFx041XzwvIq",
    "outputId": "9547bdb9-f453-4c90-8ad2-bcea7600f69c"
   },
   "outputs": [],
   "source": [
    "movies['genres'].head(3)"
   ]
  },
  {
   "cell_type": "code",
   "execution_count": null,
   "metadata": {
    "colab": {
     "base_uri": "https://localhost:8080/"
    },
    "id": "Ezm7RXd3w8KD",
    "outputId": "1aca503b-f64a-4b06-85a9-570a7e318972"
   },
   "outputs": [],
   "source": [
    "[i['name'] for i in literal_eval(movies['genres'].iloc[0])]"
   ]
  },
  {
   "cell_type": "code",
   "execution_count": null,
   "metadata": {
    "colab": {
     "base_uri": "https://localhost:8080/",
     "height": 176
    },
    "id": "z75sdbo5x3dl",
    "outputId": "539d94bd-061e-43ae-8569-b3c70e3c10ef"
   },
   "outputs": [],
   "source": [
    "movies['genres'] = movies['genres'].fillna('[]').apply(literal_eval).apply(lambda x: [i['name'] for i in x] if isinstance(x, list) else [])\n",
    "movies['genres'].head(3)"
   ]
  },
  {
   "cell_type": "code",
   "execution_count": null,
   "metadata": {
    "colab": {
     "base_uri": "https://localhost:8080/"
    },
    "id": "2hcASYrhy8NE",
    "outputId": "ffbd89ef-a417-41b4-b68b-1459d5a30dc7"
   },
   "outputs": [],
   "source": [
    "available_genres = functools.reduce(lambda x, y: set(x).union(set(y)), movies['genres'].tolist())\n",
    "available_genres"
   ]
  },
  {
   "cell_type": "code",
   "execution_count": null,
   "metadata": {
    "colab": {
     "base_uri": "https://localhost:8080/"
    },
    "id": "gR4yH4aZz3l3",
    "outputId": "1dc64893-c285-4a84-fdd9-78c0996a7282"
   },
   "outputs": [],
   "source": [
    "movies['release_date'] = pd.to_datetime(movies['release_date'], errors='coerce')\n",
    "movies['year'] = movies['release_date'].dt.year\n",
    "movies['year'].iloc[0]"
   ]
  },
  {
   "cell_type": "code",
   "execution_count": null,
   "metadata": {
    "colab": {
     "base_uri": "https://localhost:8080/",
     "height": 145
    },
    "id": "YDIlvq5lEf46",
    "outputId": "870ed950-2466-48ea-e64f-2e0de155f4f0"
   },
   "outputs": [],
   "source": [
    "movies[['vote_average', 'vote_count']].dtypes"
   ]
  },
  {
   "cell_type": "code",
   "execution_count": null,
   "metadata": {
    "colab": {
     "base_uri": "https://localhost:8080/",
     "height": 145
    },
    "id": "wv60PzcUyN7e",
    "outputId": "68f9f24f-4168-4c00-e6e6-1d971e2576c2"
   },
   "outputs": [],
   "source": [
    "movies[['vote_average', 'vote_count']].isna().sum()"
   ]
  },
  {
   "cell_type": "markdown",
   "metadata": {
    "id": "GJB9Ha322GQM"
   },
   "source": [
    "Для создания неперсо\n",
    "нализированной рекомендации используем не все данные, только 'title', 'year', 'vote_count', 'vote_average', 'genres'"
   ]
  },
  {
   "cell_type": "code",
   "execution_count": null,
   "metadata": {
    "id": "qcoi3euwRsy-"
   },
   "outputs": [],
   "source": [
    "def proc_dataset(df):\n",
    "  dataset = df.dropna(subset=['vote_average', 'vote_count'], axis=0)\n",
    "  dataset = dataset[['title', 'year', 'vote_count', 'vote_average', 'genres']]\n",
    "  return dataset"
   ]
  },
  {
   "cell_type": "code",
   "execution_count": null,
   "metadata": {
    "colab": {
     "base_uri": "https://localhost:8080/",
     "height": 142
    },
    "id": "5hC-GSQB3hFh",
    "outputId": "ebc58787-949b-4b18-a404-4452fabce120"
   },
   "outputs": [],
   "source": [
    "nonpers_df = proc_dataset(movies)\n",
    "nonpers_df.head(3)"
   ]
  },
  {
   "cell_type": "markdown",
   "metadata": {
    "id": "9RuTXzFkeVEy"
   },
   "source": [
    "Для того, чтобы лучше подобрать рекомендации для новых пользователей необходимо правильно задать формулу.\n",
    "\n",
    "\n",
    "Есть несколько идей:\n",
    "\n",
    "1) Можем предлагать фильмы с самым высоким значением 'vote_average'.\n",
    "\n",
    "2) Предлагать фильмы с самым высоким 'vote_average', но учитывать также 'vote_count'.\n",
    "\n",
    "3) Учитывать среднее значение 'vote_average' и текущее значение 'vote_average'. Взвешенное среднее.\n",
    "\n",
    "4) К 3) пункту добавить также интересующие пользователя жанры.\n",
    "\n",
    "5) Можно добавить к 4) пункту фильтрацию по дате релиза фильма. Например, если пользователь не любит старые фильмы, которые выпущены до 2000г. (Учитывать интересы пользователя)"
   ]
  },
  {
   "cell_type": "markdown",
   "metadata": {
    "id": "vHuyLDiuiivZ"
   },
   "source": [
    "Реализуем 1-ю идею."
   ]
  },
  {
   "cell_type": "code",
   "execution_count": null,
   "metadata": {
    "id": "R-OFhMEXinNa"
   },
   "outputs": [],
   "source": [
    "def first_idea(df):\n",
    "  return df['vote_average']\n",
    "\n",
    "def recomend_first(movies, n):\n",
    "  df = movies.copy()\n",
    "  df['formula'] = df.apply(lambda x: first_idea(x), axis=1)\n",
    "  df.sort_values('formula', ascending=False, inplace=True)\n",
    "  return df.head(n).reset_index(drop=True)"
   ]
  },
  {
   "cell_type": "code",
   "execution_count": null,
   "metadata": {
    "colab": {
     "base_uri": "https://localhost:8080/",
     "height": 393
    },
    "id": "PvhybZvQlobj",
    "outputId": "aa7797c1-0e6b-489f-8b62-fd5dbfb166a3"
   },
   "outputs": [],
   "source": [
    "recomend_first(nonpers_df, 10)"
   ]
  },
  {
   "cell_type": "markdown",
   "metadata": {
    "id": "3vAR5AzanCYF"
   },
   "source": [
    "Рейтинг у каждого фильма высокий, но можем заметить, что это оценки одного пользователя. Скорее всего, вряд ли эти фильмы заинтересуют новых пользователей, так как это предпочтения одного пользователя, и они могут быть специфическими.\n",
    "\n",
    "По этому необходимо учитывать количество 'vote_count'."
   ]
  },
  {
   "cell_type": "markdown",
   "metadata": {
    "id": "681lgBPM890O"
   },
   "source": [
    "Реализуем 2-ю идею."
   ]
  },
  {
   "cell_type": "code",
   "execution_count": null,
   "metadata": {
    "id": "BHYIO2E_87yC"
   },
   "outputs": [],
   "source": [
    "def second_idea(df):\n",
    "  R = df['vote_average']\n",
    "  q = df['vote_count']\n",
    "  return R * q\n",
    "\n",
    "def recomend_second(movies, n):\n",
    "  df = movies.copy()\n",
    "  df['formula'] = df.apply(lambda x: second_idea(x), axis=1)\n",
    "  df.sort_values('formula', ascending=False, inplace=True)\n",
    "  return df.head(10).reset_index(drop=True)"
   ]
  },
  {
   "cell_type": "code",
   "execution_count": null,
   "metadata": {
    "colab": {
     "base_uri": "https://localhost:8080/",
     "height": 359
    },
    "id": "xPyVHGLG-EeE",
    "outputId": "5044a83a-0ce4-48d5-ca91-8bd4e3938159"
   },
   "outputs": [],
   "source": [
    "recomend_second(nonpers_df, 10)"
   ]
  },
  {
   "cell_type": "markdown",
   "metadata": {
    "id": "BI3UnwrrTi9W"
   },
   "source": [
    "Это идея неплоха, но не все фильмы, которые получили большее количество голосов, являются лучшими. В этом случае мы не учитываем фильмы, у которых высокий рейтинг, но их оценило не так много людей. Это может происходить в тех случаях, когда фильм только вышел и не успел набрать свою аудиторию или у фильма была слабая реклама,и о нем знает небольшое количество людей. То есть небольшое количество голосов не значит, что фильм плохой. Следовательно, их тоже необходимо учитывать."
   ]
  },
  {
   "cell_type": "markdown",
   "metadata": {
    "id": "JHxP6AtRVE8n"
   },
   "source": [
    "Реализуем 3-ю идею."
   ]
  },
  {
   "cell_type": "code",
   "execution_count": null,
   "metadata": {
    "id": "1nv2Cv5Ykp5f"
   },
   "outputs": [],
   "source": [
    "def third_idea(df,m,q):\n",
    "  R = df['vote_average']\n",
    "  p = df['vote_count']\n",
    "  return (p / (p + q)) * R + (q / (q + p)) * m\n",
    "\n",
    "def recomend_third(movies, n):\n",
    "  df = movies.copy()\n",
    "  m = np.mean(df['vote_average'])\n",
    "  q = np.quantile(df['vote_count'], 0.95)\n",
    "\n",
    "  df['formula'] = df.apply(lambda x: third_idea(x, m, q), axis=1)\n",
    "  df.sort_values('formula', ascending=False, inplace=True)\n",
    "  return df.head(n).reset_index(drop=True)"
   ]
  },
  {
   "cell_type": "code",
   "execution_count": null,
   "metadata": {
    "colab": {
     "base_uri": "https://localhost:8080/",
     "height": 359
    },
    "id": "bBHAUAYGYI-3",
    "outputId": "6eb494f8-c5ed-4d3b-ec14-8e56e1fee887"
   },
   "outputs": [],
   "source": [
    "recomend_third(nonpers_df, 10)"
   ]
  },
  {
   "cell_type": "markdown",
   "metadata": {
    "id": "pKsTNRL7YhhG"
   },
   "source": [
    "Можем заметить, что у некоторых фильмов количество голосов меньше, но при этом у них хороший рейтинг. Для этой идеии мы использовали взвешенное среднее, то есть каждый член имел свой вес(учитывалось важность отдельных компонент).\n",
    "\n",
    "\n",
    "В нашем случае,чем больше голосов у фильма, тем больше учитывается его собственный рейтинг. Если наоборот, у фильма мало голосов, то вторая часть формулы помогает \"поднять\" рейтинг менее популярных фильмов."
   ]
  },
  {
   "cell_type": "markdown",
   "metadata": {
    "id": "r1yX6952aGYG"
   },
   "source": [
    "Реализуем 4-ю идею.\n",
    "\n",
    "Теперь хотелось бы учитывать пожелания пользователя по жанрам. То есть можно в начале узнать, может есть какие-то предпочтеня.\n",
    "\n",
    "Здесь могут возникнуть 2 ситуации:\n",
    "1) Выбрав жанры, юзер хочет посмотреть фильм, подходящий хотя бы по одному из выбранных жанров. То есть он не должен удолетворять всем запрошенным параметрам.\n",
    "\n",
    "2) Или наоборот, пользователь хочет, чтобы фильм подходил по всем выбранным жанрам."
   ]
  },
  {
   "cell_type": "markdown",
   "metadata": {
    "id": "9dXQjhvdemnE"
   },
   "source": [
    "1 ситуация:"
   ]
  },
  {
   "cell_type": "code",
   "execution_count": null,
   "metadata": {
    "id": "Bz30oAG8Z9Xk"
   },
   "outputs": [],
   "source": [
    "def recomend_4th_s1(movies, wishes, n):\n",
    "  df = movies.copy()\n",
    "  m = np.mean(df['vote_average'])\n",
    "  q = np.quantile(df['vote_count'], 0.95)\n",
    "\n",
    "  df['formula'] = df.apply(lambda x: third_idea(x, m, q), axis=1)\n",
    "  df.sort_values('formula', ascending=False, inplace=True)\n",
    "\n",
    "  df['certain_genres'] = [any(y in x for y in wishes) for x in df['genres']]\n",
    "  df = df[df['certain_genres'] == True]\n",
    "  df.drop('certain_genres', axis=1, inplace=True)\n",
    "  return df.head(n).reset_index(drop=True)"
   ]
  },
  {
   "cell_type": "code",
   "execution_count": null,
   "metadata": {
    "colab": {
     "base_uri": "https://localhost:8080/",
     "height": 393
    },
    "id": "wadIBahtZGr6",
    "outputId": "82559ec7-eb06-4f2e-f63d-15671cd462d5"
   },
   "outputs": [],
   "source": [
    "recomend_4th_s1(nonpers_df, ['Comedy', 'Fantasy'], 10)"
   ]
  },
  {
   "cell_type": "markdown",
   "metadata": {
    "id": "48x7OjP_eoSp"
   },
   "source": [
    "2 ситуация:"
   ]
  },
  {
   "cell_type": "code",
   "execution_count": null,
   "metadata": {
    "id": "OqEqp30VdyeF"
   },
   "outputs": [],
   "source": [
    "def recomend_4th_s2(movies, wishes, n):\n",
    "  df = movies.copy()\n",
    "  m = np.mean(df['vote_average'])\n",
    "  q = np.quantile(df['vote_count'], 0.95)\n",
    "\n",
    "  df['formula'] = df.apply(lambda x: third_idea(x, m, q), axis=1)\n",
    "  df.sort_values('formula', ascending=False, inplace=True)\n",
    "\n",
    "  df['certain_genres'] = [all(y in x for y in wishes) for x in df['genres']]\n",
    "  df = df[df['certain_genres'] == True]\n",
    "  df.drop('certain_genres', axis=1, inplace=True)\n",
    "  return df.head(n).reset_index(drop=True)"
   ]
  },
  {
   "cell_type": "code",
   "execution_count": null,
   "metadata": {
    "colab": {
     "base_uri": "https://localhost:8080/",
     "height": 359
    },
    "id": "jvLYXXaqd6AW",
    "outputId": "8b9b97dc-87d0-4c4e-924a-22dc6708dbd4"
   },
   "outputs": [],
   "source": [
    "recomend_4th_s2(nonpers_df, ['Comedy', 'Fantasy'], 10)"
   ]
  },
  {
   "cell_type": "markdown",
   "metadata": {
    "id": "DssMTk1verp_"
   },
   "source": [
    "Как видим, результаты разные в обоих случаях, поэтому стоит учточнить в начале у юзера этот пункт."
   ]
  },
  {
   "cell_type": "markdown",
   "metadata": {
    "id": "lk9zIUjOe3s0"
   },
   "source": [
    "Реализуем 5-ю идею."
   ]
  },
  {
   "cell_type": "code",
   "execution_count": null,
   "metadata": {
    "id": "FiATUh46e7Sc"
   },
   "outputs": [],
   "source": [
    "def recomend_5th(movies, wishes_genres, wishes_year, n):\n",
    "  df = movies.copy()\n",
    "  m = np.mean(df['vote_average'])\n",
    "  q = np.quantile(df['vote_count'], 0.95)\n",
    "\n",
    "  df['formula'] = df.apply(lambda x: third_idea(x, m, q), axis=1)\n",
    "  df.sort_values('formula', ascending=False, inplace=True)\n",
    "\n",
    "  df['certain_genres'] = [any(y in x for y in wishes_genres) for x in df['genres']]\n",
    "  df = df[df['certain_genres'] == True]\n",
    "  df.drop('certain_genres', axis=1, inplace=True)\n",
    "\n",
    "  if wishes_year.startswith('С'):\n",
    "    df = df[df['year'] >= int(wishes_year.split()[-1])]\n",
    "\n",
    "  elif wishes_year.startswith('До'):\n",
    "    df = df[df['year'] <= int(wishes_year.split()[-1])]\n",
    "\n",
    "  return df.head(n).reset_index(drop=True)\n"
   ]
  },
  {
   "cell_type": "code",
   "execution_count": null,
   "metadata": {
    "colab": {
     "base_uri": "https://localhost:8080/",
     "height": 359
    },
    "id": "Lj0n0sYOjhsE",
    "outputId": "7042c7c5-c136-4f8a-cdaa-255d5cf38ab3"
   },
   "outputs": [],
   "source": [
    "recomend_5th(nonpers_df, ['Comedy', 'Fantasy'], 'С 2010', 10)"
   ]
  },
  {
   "cell_type": "code",
   "execution_count": null,
   "metadata": {
    "colab": {
     "base_uri": "https://localhost:8080/",
     "height": 359
    },
    "id": "XBMMxUx1kkLL",
    "outputId": "90b4471e-0841-4bd3-9527-8c8188281091"
   },
   "outputs": [],
   "source": [
    "recomend_5th(nonpers_df, ['Animation'], 'До 2010', 10)"
   ]
  },
  {
   "cell_type": "markdown",
   "metadata": {
    "id": "T0VM9jJMlfM1"
   },
   "source": [
    "Вот и реализация popularity-based рекомендаций. Они основаны на том, что юзеру понравится то, что и всем остальным.\n",
    "\n",
    "Это можно использовать, если пользователь новый. Т.е. \"холодный старт\", когда нам ничего неизвестно о новом пользователе."
   ]
  }
 ],
 "metadata": {
  "colab": {
   "provenance": []
  },
  "kernelspec": {
   "display_name": "Python 3",
   "name": "python3"
  },
  "language_info": {
   "name": "python",
   "version": "3.12.2"
  }
 },
 "nbformat": 4,
 "nbformat_minor": 0
}
