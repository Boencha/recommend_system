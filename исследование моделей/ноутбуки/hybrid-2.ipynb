{
 "cells": [
  {
   "cell_type": "markdown",
   "metadata": {
    "id": "T9U6bM-e1Djb"
   },
   "source": [
    "# **Нейронная коллаборативная фильтрация**\n",
    "\n",
    "\n",
    "\n",
    "1.   Обработка текстовых данных о фильмах\n",
    "*   Лемматизация, стемминг\n",
    "*   TF-IDF- представление текстов в векторное представление\n",
    "\n",
    "2.   Формирование данных для обучения - каждому пользователю сопоставляется просмотренные фильмы (позитивные примеры) и случайные непросмотренные (негативные примеры)\n",
    "\n",
    "\n",
    "3.   Модель нейронной сети:\n",
    "*   Вход: вектор фильма  и one-hot представление пользователя\n",
    "*   Архитектура: несколько полносвязных слоев с активациями ReLU и выходным слоем с сигмоидной активацией\n",
    "*   Оптимизатор: Adam\n",
    "*   Задача: предсказание вероятности взаимодействия пользователя с фильмом\n",
    "\n",
    "\n",
    "\n"
   ]
  },
  {
   "cell_type": "code",
   "execution_count": null,
   "metadata": {
    "id": "WNPiIA_1yxa4"
   },
   "outputs": [],
   "source": [
    "import pandas as pd\n",
    "import numpy as np\n",
    "from sklearn.feature_extraction.text import TfidfVectorizer\n",
    "from sklearn.model_selection import train_test_split\n",
    "from tensorflow.keras.models import Model\n",
    "from tensorflow.keras.layers import Input, Dense, Dropout, Embedding, Flatten, Concatenate\n",
    "from tensorflow.keras.optimizers import Adam\n",
    "from tensorflow.keras.losses import BinaryCrossentropy\n",
    "from tensorflow.keras.metrics import Precision, Recall\n",
    "from ast import literal_eval\n",
    "from nltk.stem.snowball import SnowballStemmer\n",
    "import spacy\n",
    "import warnings;\n",
    "warnings.simplefilter('ignore')"
   ]
  },
  {
   "cell_type": "code",
   "execution_count": null,
   "metadata": {
    "id": "6VTFvX963B8z"
   },
   "outputs": [],
   "source": [
    "data = pd.read_csv('movies_metadata.csv')\n",
    "credits = pd.read_csv('credits.csv')\n",
    "keywords = pd.read_csv('keywords.csv')\n",
    "links = pd.read_csv('links_small.csv')\n"
   ]
  },
  {
   "cell_type": "code",
   "execution_count": null,
   "metadata": {
    "id": "okoE5fMP-BZa"
   },
   "outputs": [],
   "source": [
    "ratings = pd.read_csv('ratings_small.csv')"
   ]
  },
  {
   "cell_type": "markdown",
   "metadata": {
    "id": "b3YI7MwI88lS"
   },
   "source": [
    "Создадим колонку \"soup\", как и в content-based, содержащую всю необходимую информацию о фильме.\n",
    "\n",
    "Затем векторизуем с помощью TF-IDF."
   ]
  },
  {
   "cell_type": "code",
   "execution_count": null,
   "metadata": {
    "id": "tl2CL3xqVl7Z"
   },
   "outputs": [],
   "source": [
    "data = data[data['id'].str.isnumeric()]\n",
    "data['id'] = data['id'].astype(int)\n",
    "data['genres'] = data['genres'].fillna('[]').apply(literal_eval).apply(lambda x: [i['name'] for i in x] if isinstance(x, list) else [])\n",
    "data['year'] = pd.to_datetime(data['release_date'], errors='coerce').dt.year\n",
    "\n",
    "data = pd.merge(data, credits, on='id')\n",
    "data = pd.merge(data, keywords, on='id')\n",
    "\n",
    "\n",
    "data['cast'] = data['cast'].apply(literal_eval)\n",
    "data['cast'] = data['cast'].apply(lambda x:[i['name'] for i in x] if isinstance(x, list) else [])\n",
    "data['cast'] = data['cast'].apply(lambda x: x[:5] if len(x) >=5 else x)\n",
    "data['cast'] = data['cast'].apply(lambda x: [str.lower(i.replace(\" \", '')) for i in x])\n",
    "data['crew'] = data['crew'].apply(literal_eval)\n",
    "\n",
    "def get_director(x):\n",
    "  for i in x:\n",
    "    if i['job'] == 'Director':\n",
    "      return i['name']\n",
    "  return np.nan\n",
    "\n",
    "data['director'] = data['crew'].apply(get_director)\n",
    "data['director'] = data['director'].astype('str').apply(lambda x: str.lower(x.replace(\" \", \"\")))\n",
    "\n",
    "data['keywords'] = data['keywords'].apply(literal_eval)\n",
    "data['keywords'] = data['keywords'].apply(lambda x: [i['name'] for i in x] if isinstance(x, list) else [])\n",
    "s = data.apply(lambda x: pd.Series(x['keywords']), axis=1).stack().reset_index(level=1, drop=True)\n",
    "s.name = 'keyword'\n",
    "s = s.value_counts()\n",
    "s = s[s > 1]\n",
    "\n",
    "def filter_words(x):\n",
    "  words = []\n",
    "  for i in x:\n",
    "    if i in s:\n",
    "      words.append(i)\n",
    "  return words\n",
    "\n",
    "data['keywords'] = data['keywords'].apply(filter_words)\n",
    "\n",
    "nlp = spacy.load(\"en_core_web_sm\")\n",
    "\n",
    "def lemmatize_words(x):\n",
    "    words = []\n",
    "    for token in x:\n",
    "        doc = nlp(token)\n",
    "        words.append(doc[0].lemma_)\n",
    "    return words\n",
    "\n",
    "data['keywords'] = data['keywords'].apply(lambda x: lemmatize_words(x))\n",
    "data['keywords'] = data['keywords'].apply(lambda x: [i.replace(\" \", \"\").lower() for i in x])\n",
    "\n",
    "def concat(x):\n",
    "  c = x['keywords'] + x['cast'] + [x['director']] + x['genres']\n",
    "  soup = ' '.join([str(i).lower() for i in c])\n",
    "  return soup\n",
    "\n",
    "data['soup'] = data.apply(lambda x: concat(x), axis=1)\n",
    "\n"
   ]
  },
  {
   "cell_type": "code",
   "execution_count": null,
   "metadata": {
    "id": "HHeDsKRLqy-t"
   },
   "outputs": [],
   "source": [
    "user_to_index = {user: idx for idx, user in enumerate(ratings['userId'].unique())}\n",
    "movie_to_index = {movie: idx for idx, movie in enumerate(ratings['movieId'].unique())}\n",
    "\n",
    "ratings['userId'] = ratings['userId'].map(user_to_index)\n",
    "ratings['movieId'] = ratings['movieId'].map(movie_to_index)"
   ]
  },
  {
   "cell_type": "code",
   "execution_count": null,
   "metadata": {
    "id": "awQ1CbaaqpTN"
   },
   "outputs": [],
   "source": [
    "tfidf = TfidfVectorizer(stop_words='english')\n",
    "data_tfidf = tfidf.fit_transform(data['soup'])"
   ]
  },
  {
   "cell_type": "markdown",
   "metadata": {
    "id": "Srjk9PJo9XUM"
   },
   "source": [
    "Теперь подготовим данные для обучения.\n",
    "\n",
    "Создадим данные для обучения: положительные и отрицательные примеры.\n",
    "- положительные примеры - фильмы, просмотренные пользователем и оцененные > 3.5\n",
    "- отрицательные примеры -  фильмы, непросмотренные пользователем или оцененные < 3.5"
   ]
  },
  {
   "cell_type": "code",
   "execution_count": null,
   "metadata": {
    "id": "i27ZgFMkq7ZB"
   },
   "outputs": [],
   "source": [
    "ratings['label'] = (ratings['rating'] > 3.5).astype(int)\n",
    "positive = ratings[ratings['label'] == 1]\n",
    "negative = ratings[ratings['label'] == 0]\n",
    "negative_sampled = negative.groupby('userId').apply(\n",
    "    lambda x: x.sample(min(len(x), len(positive[positive['userId'] == x.name])), random_state=42)\n",
    ").reset_index(drop=True)\n",
    "dataset = pd.concat([positive, negative_sampled])"
   ]
  },
  {
   "cell_type": "code",
   "execution_count": null,
   "metadata": {
    "id": "H-IaMTFnuZkV"
   },
   "outputs": [],
   "source": [
    "train, test = train_test_split(dataset, test_size=0.2, random_state=42)\n",
    "\n",
    "\n",
    "train_user = train['userId'].values\n",
    "train_movie = train['movieId'].values\n",
    "train_soup = data_tfidf[train['movieId'].values].toarray()\n",
    "train_labels = train['label'].values\n",
    "\n",
    "test_user = test['userId'].values\n",
    "test_movie = test['movieId'].values\n",
    "test_soup = data_tfidf[test['movieId'].values].toarray()\n",
    "test_labels = test['label'].values"
   ]
  },
  {
   "cell_type": "code",
   "execution_count": null,
   "metadata": {
    "id": "U5SgaWcxrMYg"
   },
   "outputs": [],
   "source": [
    "def create_hybrid_ncf(n_users, n_movies, soup_dim, embedding_dim=50):\n",
    "    user_input = Input(shape=(1,))\n",
    "    movie_input = Input(shape=(1,))\n",
    "    soup_input = Input(shape=(soup_dim,))\n",
    "\n",
    "    user_embedding = Embedding(input_dim=n_users, output_dim=embedding_dim)(user_input)\n",
    "    movie_embedding = Embedding(input_dim=n_movies, output_dim=embedding_dim)(movie_input)\n",
    "\n",
    "    user_vector = Flatten()(user_embedding)\n",
    "    movie_vector = Flatten()(movie_embedding)\n",
    "\n",
    "    combined = Concatenate()([user_vector, movie_vector, soup_input])\n",
    "    dense = Dense(128, activation='relu')(combined)\n",
    "    dense = Dropout(0.2)(dense)\n",
    "    dense = Dense(64, activation='relu')(dense)\n",
    "    output = Dense(1, activation='sigmoid')(dense)\n",
    "\n",
    "    model = Model(inputs=[user_input, movie_input, soup_input], outputs=output)\n",
    "    model.compile(optimizer=Adam(learning_rate=0.001), loss='binary_crossentropy', metrics=['accuracy'])\n",
    "    return model"
   ]
  },
  {
   "cell_type": "code",
   "execution_count": null,
   "metadata": {
    "colab": {
     "base_uri": "https://localhost:8080/"
    },
    "id": "QW_YJR_Zrodh",
    "outputId": "e5d1e6fa-1071-4622-ff1d-a0e9a8293d44"
   },
   "outputs": [
    {
     "name": "stdout",
     "output_type": "stream",
     "text": [
      "Epoch 1/10\n",
      "\u001b[1m954/954\u001b[0m \u001b[32m━━━━━━━━━━━━━━━━━━━━\u001b[0m\u001b[37m\u001b[0m \u001b[1m18s\u001b[0m 16ms/step - accuracy: 0.6360 - loss: 0.6348 - val_accuracy: 0.6822 - val_loss: 0.5932\n",
      "Epoch 2/10\n",
      "\u001b[1m954/954\u001b[0m \u001b[32m━━━━━━━━━━━━━━━━━━━━\u001b[0m\u001b[37m\u001b[0m \u001b[1m8s\u001b[0m 9ms/step - accuracy: 0.7234 - loss: 0.5487 - val_accuracy: 0.6860 - val_loss: 0.5908\n",
      "Epoch 3/10\n",
      "\u001b[1m954/954\u001b[0m \u001b[32m━━━━━━━━━━━━━━━━━━━━\u001b[0m\u001b[37m\u001b[0m \u001b[1m8s\u001b[0m 9ms/step - accuracy: 0.7438 - loss: 0.5121 - val_accuracy: 0.6888 - val_loss: 0.6049\n",
      "Epoch 4/10\n",
      "\u001b[1m954/954\u001b[0m \u001b[32m━━━━━━━━━━━━━━━━━━━━\u001b[0m\u001b[37m\u001b[0m \u001b[1m9s\u001b[0m 9ms/step - accuracy: 0.7577 - loss: 0.4852 - val_accuracy: 0.6856 - val_loss: 0.6141\n",
      "Epoch 5/10\n",
      "\u001b[1m954/954\u001b[0m \u001b[32m━━━━━━━━━━━━━━━━━━━━\u001b[0m\u001b[37m\u001b[0m \u001b[1m8s\u001b[0m 9ms/step - accuracy: 0.7720 - loss: 0.4576 - val_accuracy: 0.6812 - val_loss: 0.6559\n",
      "Epoch 6/10\n",
      "\u001b[1m954/954\u001b[0m \u001b[32m━━━━━━━━━━━━━━━━━━━━\u001b[0m\u001b[37m\u001b[0m \u001b[1m8s\u001b[0m 9ms/step - accuracy: 0.7864 - loss: 0.4337 - val_accuracy: 0.6776 - val_loss: 0.6983\n",
      "Epoch 7/10\n",
      "\u001b[1m954/954\u001b[0m \u001b[32m━━━━━━━━━━━━━━━━━━━━\u001b[0m\u001b[37m\u001b[0m \u001b[1m9s\u001b[0m 9ms/step - accuracy: 0.7983 - loss: 0.4112 - val_accuracy: 0.6732 - val_loss: 0.7408\n",
      "Epoch 8/10\n",
      "\u001b[1m954/954\u001b[0m \u001b[32m━━━━━━━━━━━━━━━━━━━━\u001b[0m\u001b[37m\u001b[0m \u001b[1m8s\u001b[0m 9ms/step - accuracy: 0.8128 - loss: 0.3852 - val_accuracy: 0.6747 - val_loss: 0.7814\n",
      "Epoch 9/10\n",
      "\u001b[1m954/954\u001b[0m \u001b[32m━━━━━━━━━━━━━━━━━━━━\u001b[0m\u001b[37m\u001b[0m \u001b[1m8s\u001b[0m 9ms/step - accuracy: 0.8281 - loss: 0.3588 - val_accuracy: 0.6683 - val_loss: 0.8048\n",
      "Epoch 10/10\n",
      "\u001b[1m954/954\u001b[0m \u001b[32m━━━━━━━━━━━━━━━━━━━━\u001b[0m\u001b[37m\u001b[0m \u001b[1m8s\u001b[0m 9ms/step - accuracy: 0.8405 - loss: 0.3345 - val_accuracy: 0.6694 - val_loss: 0.8895\n"
     ]
    },
    {
     "data": {
      "text/plain": [
       "<keras.src.callbacks.history.History at 0x7dbfa688b1c0>"
      ]
     },
     "execution_count": 10,
     "metadata": {},
     "output_type": "execute_result"
    }
   ],
   "source": [
    "model = create_hybrid_ncf(len(user_to_index), len(movie_to_index), soup_dim=data_tfidf.shape[1])\n",
    "model.fit([train_user, train_movie, train_soup], train_labels, epochs=10, batch_size=64, validation_split=0.1)\n"
   ]
  },
  {
   "cell_type": "code",
   "execution_count": null,
   "metadata": {
    "colab": {
     "base_uri": "https://localhost:8080/"
    },
    "id": "mOTW2PeXrsRQ",
    "outputId": "f0fc2dd4-d5db-4d6d-ef9b-8b98a0ef14e6"
   },
   "outputs": [
    {
     "name": "stdout",
     "output_type": "stream",
     "text": [
      "\u001b[1m530/530\u001b[0m \u001b[32m━━━━━━━━━━━━━━━━━━━━\u001b[0m\u001b[37m\u001b[0m \u001b[1m4s\u001b[0m 4ms/step - accuracy: 0.6663 - loss: 0.8647\n",
      "Точность модели: 0.6597\n"
     ]
    }
   ],
   "source": [
    "loss, accuracy = model.evaluate([test_user, test_movie, test_soup], test_labels)\n",
    "print(f\"Точность модели: {accuracy:.4f}\")"
   ]
  },
  {
   "cell_type": "code",
   "execution_count": null,
   "metadata": {
    "id": "4SNBfDb3u3Ex"
   },
   "outputs": [],
   "source": [
    "def recommend_movies(user_id, top_n=10):\n",
    "    user_idx = user_to_index[user_id]\n",
    "    movie_indices = np.array(list(movie_to_index.values()))\n",
    "\n",
    "\n",
    "    rated_movies = ratings[ratings['userId'] == user_idx]['movieId'].values\n",
    "    candidate_movies = np.setdiff1d(movie_indices, rated_movies)\n",
    "\n",
    "    user_array = np.array([user_idx] * len(candidate_movies))\n",
    "    soup_array = data_tfidf[candidate_movies].toarray()\n",
    "\n",
    "    predictions = model.predict([user_array, candidate_movies, soup_array])\n",
    "    top_indices = predictions.flatten().argsort()[-top_n:][::-1]\n",
    "    recommended_movie_ids = [list(movie_to_index.keys())[list(movie_to_index.values()).index(i)] for i in candidate_movies[top_indices]]\n",
    "\n",
    "    recommended_movies = data[data['id'].isin(recommended_movie_ids)][['title', 'genres']]\n",
    "    return recommended_movies"
   ]
  },
  {
   "cell_type": "code",
   "execution_count": null,
   "metadata": {
    "colab": {
     "base_uri": "https://localhost:8080/",
     "height": 252
    },
    "id": "iDagmCPyu8yb",
    "outputId": "4df642cd-7021-4312-c5e0-6dc288fcccd3"
   },
   "outputs": [
    {
     "name": "stdout",
     "output_type": "stream",
     "text": [
      "\u001b[1m283/283\u001b[0m \u001b[32m━━━━━━━━━━━━━━━━━━━━\u001b[0m\u001b[37m\u001b[0m \u001b[1m3s\u001b[0m 8ms/step\n"
     ]
    },
    {
     "data": {
      "application/vnd.google.colaboratory.intrinsic+json": {
       "summary": "{\n  \"name\": \"recommend_movies(1, top_n=10)\",\n  \"rows\": 6,\n  \"fields\": [\n    {\n      \"column\": \"title\",\n      \"properties\": {\n        \"dtype\": \"string\",\n        \"num_unique_values\": 6,\n        \"samples\": [\n          \"While You Were Sleeping\",\n          \"Dry Cleaning\",\n          \"Don't Worry, I'm Fine\"\n        ],\n        \"semantic_type\": \"\",\n        \"description\": \"\"\n      }\n    },\n    {\n      \"column\": \"genres\",\n      \"properties\": {\n        \"dtype\": \"object\",\n        \"semantic_type\": \"\",\n        \"description\": \"\"\n      }\n    }\n  ]\n}",
       "type": "dataframe"
      },
      "text/html": [
       "\n",
       "  <div id=\"df-d31228a5-6489-47bd-84d3-a578c7205018\" class=\"colab-df-container\">\n",
       "    <div>\n",
       "<style scoped>\n",
       "    .dataframe tbody tr th:only-of-type {\n",
       "        vertical-align: middle;\n",
       "    }\n",
       "\n",
       "    .dataframe tbody tr th {\n",
       "        vertical-align: top;\n",
       "    }\n",
       "\n",
       "    .dataframe thead th {\n",
       "        text-align: right;\n",
       "    }\n",
       "</style>\n",
       "<table border=\"1\" class=\"dataframe\">\n",
       "  <thead>\n",
       "    <tr style=\"text-align: right;\">\n",
       "      <th></th>\n",
       "      <th>title</th>\n",
       "      <th>genres</th>\n",
       "    </tr>\n",
       "  </thead>\n",
       "  <tbody>\n",
       "    <tr>\n",
       "      <th>334</th>\n",
       "      <td>While You Were Sleeping</td>\n",
       "      <td>[Comedy, Drama, Romance]</td>\n",
       "    </tr>\n",
       "    <tr>\n",
       "      <th>2379</th>\n",
       "      <td>Dry Cleaning</td>\n",
       "      <td>[Drama]</td>\n",
       "    </tr>\n",
       "    <tr>\n",
       "      <th>2545</th>\n",
       "      <td>Frankenstein</td>\n",
       "      <td>[Drama, Horror, Science Fiction]</td>\n",
       "    </tr>\n",
       "    <tr>\n",
       "      <th>4864</th>\n",
       "      <td>Amélie</td>\n",
       "      <td>[Comedy, Romance]</td>\n",
       "    </tr>\n",
       "    <tr>\n",
       "      <th>8494</th>\n",
       "      <td>Letter from an Unknown Woman</td>\n",
       "      <td>[Drama]</td>\n",
       "    </tr>\n",
       "    <tr>\n",
       "      <th>18372</th>\n",
       "      <td>Don't Worry, I'm Fine</td>\n",
       "      <td>[Drama]</td>\n",
       "    </tr>\n",
       "  </tbody>\n",
       "</table>\n",
       "</div>\n",
       "    <div class=\"colab-df-buttons\">\n",
       "\n",
       "  <div class=\"colab-df-container\">\n",
       "    <button class=\"colab-df-convert\" onclick=\"convertToInteractive('df-d31228a5-6489-47bd-84d3-a578c7205018')\"\n",
       "            title=\"Convert this dataframe to an interactive table.\"\n",
       "            style=\"display:none;\">\n",
       "\n",
       "  <svg xmlns=\"http://www.w3.org/2000/svg\" height=\"24px\" viewBox=\"0 -960 960 960\">\n",
       "    <path d=\"M120-120v-720h720v720H120Zm60-500h600v-160H180v160Zm220 220h160v-160H400v160Zm0 220h160v-160H400v160ZM180-400h160v-160H180v160Zm440 0h160v-160H620v160ZM180-180h160v-160H180v160Zm440 0h160v-160H620v160Z\"/>\n",
       "  </svg>\n",
       "    </button>\n",
       "\n",
       "  <style>\n",
       "    .colab-df-container {\n",
       "      display:flex;\n",
       "      gap: 12px;\n",
       "    }\n",
       "\n",
       "    .colab-df-convert {\n",
       "      background-color: #E8F0FE;\n",
       "      border: none;\n",
       "      border-radius: 50%;\n",
       "      cursor: pointer;\n",
       "      display: none;\n",
       "      fill: #1967D2;\n",
       "      height: 32px;\n",
       "      padding: 0 0 0 0;\n",
       "      width: 32px;\n",
       "    }\n",
       "\n",
       "    .colab-df-convert:hover {\n",
       "      background-color: #E2EBFA;\n",
       "      box-shadow: 0px 1px 2px rgba(60, 64, 67, 0.3), 0px 1px 3px 1px rgba(60, 64, 67, 0.15);\n",
       "      fill: #174EA6;\n",
       "    }\n",
       "\n",
       "    .colab-df-buttons div {\n",
       "      margin-bottom: 4px;\n",
       "    }\n",
       "\n",
       "    [theme=dark] .colab-df-convert {\n",
       "      background-color: #3B4455;\n",
       "      fill: #D2E3FC;\n",
       "    }\n",
       "\n",
       "    [theme=dark] .colab-df-convert:hover {\n",
       "      background-color: #434B5C;\n",
       "      box-shadow: 0px 1px 3px 1px rgba(0, 0, 0, 0.15);\n",
       "      filter: drop-shadow(0px 1px 2px rgba(0, 0, 0, 0.3));\n",
       "      fill: #FFFFFF;\n",
       "    }\n",
       "  </style>\n",
       "\n",
       "    <script>\n",
       "      const buttonEl =\n",
       "        document.querySelector('#df-d31228a5-6489-47bd-84d3-a578c7205018 button.colab-df-convert');\n",
       "      buttonEl.style.display =\n",
       "        google.colab.kernel.accessAllowed ? 'block' : 'none';\n",
       "\n",
       "      async function convertToInteractive(key) {\n",
       "        const element = document.querySelector('#df-d31228a5-6489-47bd-84d3-a578c7205018');\n",
       "        const dataTable =\n",
       "          await google.colab.kernel.invokeFunction('convertToInteractive',\n",
       "                                                    [key], {});\n",
       "        if (!dataTable) return;\n",
       "\n",
       "        const docLinkHtml = 'Like what you see? Visit the ' +\n",
       "          '<a target=\"_blank\" href=https://colab.research.google.com/notebooks/data_table.ipynb>data table notebook</a>'\n",
       "          + ' to learn more about interactive tables.';\n",
       "        element.innerHTML = '';\n",
       "        dataTable['output_type'] = 'display_data';\n",
       "        await google.colab.output.renderOutput(dataTable, element);\n",
       "        const docLink = document.createElement('div');\n",
       "        docLink.innerHTML = docLinkHtml;\n",
       "        element.appendChild(docLink);\n",
       "      }\n",
       "    </script>\n",
       "  </div>\n",
       "\n",
       "\n",
       "<div id=\"df-647c6f09-d358-44b9-974d-fa40c67d4e5d\">\n",
       "  <button class=\"colab-df-quickchart\" onclick=\"quickchart('df-647c6f09-d358-44b9-974d-fa40c67d4e5d')\"\n",
       "            title=\"Suggest charts\"\n",
       "            style=\"display:none;\">\n",
       "\n",
       "<svg xmlns=\"http://www.w3.org/2000/svg\" height=\"24px\"viewBox=\"0 0 24 24\"\n",
       "     width=\"24px\">\n",
       "    <g>\n",
       "        <path d=\"M19 3H5c-1.1 0-2 .9-2 2v14c0 1.1.9 2 2 2h14c1.1 0 2-.9 2-2V5c0-1.1-.9-2-2-2zM9 17H7v-7h2v7zm4 0h-2V7h2v10zm4 0h-2v-4h2v4z\"/>\n",
       "    </g>\n",
       "</svg>\n",
       "  </button>\n",
       "\n",
       "<style>\n",
       "  .colab-df-quickchart {\n",
       "      --bg-color: #E8F0FE;\n",
       "      --fill-color: #1967D2;\n",
       "      --hover-bg-color: #E2EBFA;\n",
       "      --hover-fill-color: #174EA6;\n",
       "      --disabled-fill-color: #AAA;\n",
       "      --disabled-bg-color: #DDD;\n",
       "  }\n",
       "\n",
       "  [theme=dark] .colab-df-quickchart {\n",
       "      --bg-color: #3B4455;\n",
       "      --fill-color: #D2E3FC;\n",
       "      --hover-bg-color: #434B5C;\n",
       "      --hover-fill-color: #FFFFFF;\n",
       "      --disabled-bg-color: #3B4455;\n",
       "      --disabled-fill-color: #666;\n",
       "  }\n",
       "\n",
       "  .colab-df-quickchart {\n",
       "    background-color: var(--bg-color);\n",
       "    border: none;\n",
       "    border-radius: 50%;\n",
       "    cursor: pointer;\n",
       "    display: none;\n",
       "    fill: var(--fill-color);\n",
       "    height: 32px;\n",
       "    padding: 0;\n",
       "    width: 32px;\n",
       "  }\n",
       "\n",
       "  .colab-df-quickchart:hover {\n",
       "    background-color: var(--hover-bg-color);\n",
       "    box-shadow: 0 1px 2px rgba(60, 64, 67, 0.3), 0 1px 3px 1px rgba(60, 64, 67, 0.15);\n",
       "    fill: var(--button-hover-fill-color);\n",
       "  }\n",
       "\n",
       "  .colab-df-quickchart-complete:disabled,\n",
       "  .colab-df-quickchart-complete:disabled:hover {\n",
       "    background-color: var(--disabled-bg-color);\n",
       "    fill: var(--disabled-fill-color);\n",
       "    box-shadow: none;\n",
       "  }\n",
       "\n",
       "  .colab-df-spinner {\n",
       "    border: 2px solid var(--fill-color);\n",
       "    border-color: transparent;\n",
       "    border-bottom-color: var(--fill-color);\n",
       "    animation:\n",
       "      spin 1s steps(1) infinite;\n",
       "  }\n",
       "\n",
       "  @keyframes spin {\n",
       "    0% {\n",
       "      border-color: transparent;\n",
       "      border-bottom-color: var(--fill-color);\n",
       "      border-left-color: var(--fill-color);\n",
       "    }\n",
       "    20% {\n",
       "      border-color: transparent;\n",
       "      border-left-color: var(--fill-color);\n",
       "      border-top-color: var(--fill-color);\n",
       "    }\n",
       "    30% {\n",
       "      border-color: transparent;\n",
       "      border-left-color: var(--fill-color);\n",
       "      border-top-color: var(--fill-color);\n",
       "      border-right-color: var(--fill-color);\n",
       "    }\n",
       "    40% {\n",
       "      border-color: transparent;\n",
       "      border-right-color: var(--fill-color);\n",
       "      border-top-color: var(--fill-color);\n",
       "    }\n",
       "    60% {\n",
       "      border-color: transparent;\n",
       "      border-right-color: var(--fill-color);\n",
       "    }\n",
       "    80% {\n",
       "      border-color: transparent;\n",
       "      border-right-color: var(--fill-color);\n",
       "      border-bottom-color: var(--fill-color);\n",
       "    }\n",
       "    90% {\n",
       "      border-color: transparent;\n",
       "      border-bottom-color: var(--fill-color);\n",
       "    }\n",
       "  }\n",
       "</style>\n",
       "\n",
       "  <script>\n",
       "    async function quickchart(key) {\n",
       "      const quickchartButtonEl =\n",
       "        document.querySelector('#' + key + ' button');\n",
       "      quickchartButtonEl.disabled = true;  // To prevent multiple clicks.\n",
       "      quickchartButtonEl.classList.add('colab-df-spinner');\n",
       "      try {\n",
       "        const charts = await google.colab.kernel.invokeFunction(\n",
       "            'suggestCharts', [key], {});\n",
       "      } catch (error) {\n",
       "        console.error('Error during call to suggestCharts:', error);\n",
       "      }\n",
       "      quickchartButtonEl.classList.remove('colab-df-spinner');\n",
       "      quickchartButtonEl.classList.add('colab-df-quickchart-complete');\n",
       "    }\n",
       "    (() => {\n",
       "      let quickchartButtonEl =\n",
       "        document.querySelector('#df-647c6f09-d358-44b9-974d-fa40c67d4e5d button');\n",
       "      quickchartButtonEl.style.display =\n",
       "        google.colab.kernel.accessAllowed ? 'block' : 'none';\n",
       "    })();\n",
       "  </script>\n",
       "</div>\n",
       "    </div>\n",
       "  </div>\n"
      ],
      "text/plain": [
       "                              title                            genres\n",
       "334         While You Were Sleeping          [Comedy, Drama, Romance]\n",
       "2379                   Dry Cleaning                           [Drama]\n",
       "2545                   Frankenstein  [Drama, Horror, Science Fiction]\n",
       "4864                         Amélie                 [Comedy, Romance]\n",
       "8494   Letter from an Unknown Woman                           [Drama]\n",
       "18372         Don't Worry, I'm Fine                           [Drama]"
      ]
     },
     "execution_count": 13,
     "metadata": {},
     "output_type": "execute_result"
    }
   ],
   "source": [
    "recommend_movies(1, top_n=10)"
   ]
  }
 ],
 "metadata": {
  "accelerator": "GPU",
  "colab": {
   "gpuType": "A100",
   "machine_shape": "hm",
   "provenance": []
  },
  "kernelspec": {
   "display_name": "Python 3",
   "name": "python3"
  },
  "language_info": {
   "name": "python"
  }
 },
 "nbformat": 4,
 "nbformat_minor": 0
}
