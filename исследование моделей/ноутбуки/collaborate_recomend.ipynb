{
  "nbformat": 4,
  "nbformat_minor": 0,
  "metadata": {
    "colab": {
      "provenance": []
    },
    "kernelspec": {
      "name": "python3",
      "display_name": "Python 3"
    },
    "language_info": {
      "name": "python"
    }
  },
  "cells": [
    {
      "cell_type": "code",
      "execution_count": null,
      "metadata": {
        "id": "n8ImHlMhinPH"
      },
      "outputs": [],
      "source": [
        "import pandas as pd\n",
        "import numpy as np\n",
        "import matplotlib.pyplot as plt\n",
        "import seaborn as sns\n",
        "from scipy import stats\n",
        "from ast import literal_eval\n",
        "from sklearn.feature_extraction.text import TfidfVectorizer, CountVectorizer\n",
        "from sklearn.metrics.pairwise import linear_kernel, cosine_similarity\n",
        "from nltk.stem.snowball import SnowballStemmer\n",
        "from nltk.stem.wordnet import WordNetLemmatizer\n",
        "from nltk.corpus import wordnet\n",
        "import functools\n",
        "from sklearn.model_selection import train_test_split\n",
        "\n",
        "import warnings\n",
        "warnings.filterwarnings('ignore')"
      ]
    },
    {
      "cell_type": "code",
      "source": [
        "movies = pd.read_csv('movies_metadata.csv', usecols=['id', 'title'])\n",
        "ratings = pd.read_csv('ratings_small.csv', usecols=['userId', 'movieId', 'rating'])\n",
        "\n",
        "ratings.head(3)"
      ],
      "metadata": {
        "colab": {
          "base_uri": "https://localhost:8080/",
          "height": 142
        },
        "id": "5gSBZhg_kjwO",
        "outputId": "24a09a12-d76f-4dce-800c-87e2e25c1d9e"
      },
      "execution_count": null,
      "outputs": [
        {
          "output_type": "execute_result",
          "data": {
            "text/plain": [
              "   userId  movieId  rating\n",
              "0       1       31     2.5\n",
              "1       1     1029     3.0\n",
              "2       1     1061     3.0"
            ],
            "text/html": [
              "\n",
              "  <div id=\"df-ab3c84c6-4999-4c77-ada7-2517c4bb0fca\" class=\"colab-df-container\">\n",
              "    <div>\n",
              "<style scoped>\n",
              "    .dataframe tbody tr th:only-of-type {\n",
              "        vertical-align: middle;\n",
              "    }\n",
              "\n",
              "    .dataframe tbody tr th {\n",
              "        vertical-align: top;\n",
              "    }\n",
              "\n",
              "    .dataframe thead th {\n",
              "        text-align: right;\n",
              "    }\n",
              "</style>\n",
              "<table border=\"1\" class=\"dataframe\">\n",
              "  <thead>\n",
              "    <tr style=\"text-align: right;\">\n",
              "      <th></th>\n",
              "      <th>userId</th>\n",
              "      <th>movieId</th>\n",
              "      <th>rating</th>\n",
              "    </tr>\n",
              "  </thead>\n",
              "  <tbody>\n",
              "    <tr>\n",
              "      <th>0</th>\n",
              "      <td>1</td>\n",
              "      <td>31</td>\n",
              "      <td>2.5</td>\n",
              "    </tr>\n",
              "    <tr>\n",
              "      <th>1</th>\n",
              "      <td>1</td>\n",
              "      <td>1029</td>\n",
              "      <td>3.0</td>\n",
              "    </tr>\n",
              "    <tr>\n",
              "      <th>2</th>\n",
              "      <td>1</td>\n",
              "      <td>1061</td>\n",
              "      <td>3.0</td>\n",
              "    </tr>\n",
              "  </tbody>\n",
              "</table>\n",
              "</div>\n",
              "    <div class=\"colab-df-buttons\">\n",
              "\n",
              "  <div class=\"colab-df-container\">\n",
              "    <button class=\"colab-df-convert\" onclick=\"convertToInteractive('df-ab3c84c6-4999-4c77-ada7-2517c4bb0fca')\"\n",
              "            title=\"Convert this dataframe to an interactive table.\"\n",
              "            style=\"display:none;\">\n",
              "\n",
              "  <svg xmlns=\"http://www.w3.org/2000/svg\" height=\"24px\" viewBox=\"0 -960 960 960\">\n",
              "    <path d=\"M120-120v-720h720v720H120Zm60-500h600v-160H180v160Zm220 220h160v-160H400v160Zm0 220h160v-160H400v160ZM180-400h160v-160H180v160Zm440 0h160v-160H620v160ZM180-180h160v-160H180v160Zm440 0h160v-160H620v160Z\"/>\n",
              "  </svg>\n",
              "    </button>\n",
              "\n",
              "  <style>\n",
              "    .colab-df-container {\n",
              "      display:flex;\n",
              "      gap: 12px;\n",
              "    }\n",
              "\n",
              "    .colab-df-convert {\n",
              "      background-color: #E8F0FE;\n",
              "      border: none;\n",
              "      border-radius: 50%;\n",
              "      cursor: pointer;\n",
              "      display: none;\n",
              "      fill: #1967D2;\n",
              "      height: 32px;\n",
              "      padding: 0 0 0 0;\n",
              "      width: 32px;\n",
              "    }\n",
              "\n",
              "    .colab-df-convert:hover {\n",
              "      background-color: #E2EBFA;\n",
              "      box-shadow: 0px 1px 2px rgba(60, 64, 67, 0.3), 0px 1px 3px 1px rgba(60, 64, 67, 0.15);\n",
              "      fill: #174EA6;\n",
              "    }\n",
              "\n",
              "    .colab-df-buttons div {\n",
              "      margin-bottom: 4px;\n",
              "    }\n",
              "\n",
              "    [theme=dark] .colab-df-convert {\n",
              "      background-color: #3B4455;\n",
              "      fill: #D2E3FC;\n",
              "    }\n",
              "\n",
              "    [theme=dark] .colab-df-convert:hover {\n",
              "      background-color: #434B5C;\n",
              "      box-shadow: 0px 1px 3px 1px rgba(0, 0, 0, 0.15);\n",
              "      filter: drop-shadow(0px 1px 2px rgba(0, 0, 0, 0.3));\n",
              "      fill: #FFFFFF;\n",
              "    }\n",
              "  </style>\n",
              "\n",
              "    <script>\n",
              "      const buttonEl =\n",
              "        document.querySelector('#df-ab3c84c6-4999-4c77-ada7-2517c4bb0fca button.colab-df-convert');\n",
              "      buttonEl.style.display =\n",
              "        google.colab.kernel.accessAllowed ? 'block' : 'none';\n",
              "\n",
              "      async function convertToInteractive(key) {\n",
              "        const element = document.querySelector('#df-ab3c84c6-4999-4c77-ada7-2517c4bb0fca');\n",
              "        const dataTable =\n",
              "          await google.colab.kernel.invokeFunction('convertToInteractive',\n",
              "                                                    [key], {});\n",
              "        if (!dataTable) return;\n",
              "\n",
              "        const docLinkHtml = 'Like what you see? Visit the ' +\n",
              "          '<a target=\"_blank\" href=https://colab.research.google.com/notebooks/data_table.ipynb>data table notebook</a>'\n",
              "          + ' to learn more about interactive tables.';\n",
              "        element.innerHTML = '';\n",
              "        dataTable['output_type'] = 'display_data';\n",
              "        await google.colab.output.renderOutput(dataTable, element);\n",
              "        const docLink = document.createElement('div');\n",
              "        docLink.innerHTML = docLinkHtml;\n",
              "        element.appendChild(docLink);\n",
              "      }\n",
              "    </script>\n",
              "  </div>\n",
              "\n",
              "\n",
              "<div id=\"df-526701c8-8cfe-4f78-afae-951956d6466c\">\n",
              "  <button class=\"colab-df-quickchart\" onclick=\"quickchart('df-526701c8-8cfe-4f78-afae-951956d6466c')\"\n",
              "            title=\"Suggest charts\"\n",
              "            style=\"display:none;\">\n",
              "\n",
              "<svg xmlns=\"http://www.w3.org/2000/svg\" height=\"24px\"viewBox=\"0 0 24 24\"\n",
              "     width=\"24px\">\n",
              "    <g>\n",
              "        <path d=\"M19 3H5c-1.1 0-2 .9-2 2v14c0 1.1.9 2 2 2h14c1.1 0 2-.9 2-2V5c0-1.1-.9-2-2-2zM9 17H7v-7h2v7zm4 0h-2V7h2v10zm4 0h-2v-4h2v4z\"/>\n",
              "    </g>\n",
              "</svg>\n",
              "  </button>\n",
              "\n",
              "<style>\n",
              "  .colab-df-quickchart {\n",
              "      --bg-color: #E8F0FE;\n",
              "      --fill-color: #1967D2;\n",
              "      --hover-bg-color: #E2EBFA;\n",
              "      --hover-fill-color: #174EA6;\n",
              "      --disabled-fill-color: #AAA;\n",
              "      --disabled-bg-color: #DDD;\n",
              "  }\n",
              "\n",
              "  [theme=dark] .colab-df-quickchart {\n",
              "      --bg-color: #3B4455;\n",
              "      --fill-color: #D2E3FC;\n",
              "      --hover-bg-color: #434B5C;\n",
              "      --hover-fill-color: #FFFFFF;\n",
              "      --disabled-bg-color: #3B4455;\n",
              "      --disabled-fill-color: #666;\n",
              "  }\n",
              "\n",
              "  .colab-df-quickchart {\n",
              "    background-color: var(--bg-color);\n",
              "    border: none;\n",
              "    border-radius: 50%;\n",
              "    cursor: pointer;\n",
              "    display: none;\n",
              "    fill: var(--fill-color);\n",
              "    height: 32px;\n",
              "    padding: 0;\n",
              "    width: 32px;\n",
              "  }\n",
              "\n",
              "  .colab-df-quickchart:hover {\n",
              "    background-color: var(--hover-bg-color);\n",
              "    box-shadow: 0 1px 2px rgba(60, 64, 67, 0.3), 0 1px 3px 1px rgba(60, 64, 67, 0.15);\n",
              "    fill: var(--button-hover-fill-color);\n",
              "  }\n",
              "\n",
              "  .colab-df-quickchart-complete:disabled,\n",
              "  .colab-df-quickchart-complete:disabled:hover {\n",
              "    background-color: var(--disabled-bg-color);\n",
              "    fill: var(--disabled-fill-color);\n",
              "    box-shadow: none;\n",
              "  }\n",
              "\n",
              "  .colab-df-spinner {\n",
              "    border: 2px solid var(--fill-color);\n",
              "    border-color: transparent;\n",
              "    border-bottom-color: var(--fill-color);\n",
              "    animation:\n",
              "      spin 1s steps(1) infinite;\n",
              "  }\n",
              "\n",
              "  @keyframes spin {\n",
              "    0% {\n",
              "      border-color: transparent;\n",
              "      border-bottom-color: var(--fill-color);\n",
              "      border-left-color: var(--fill-color);\n",
              "    }\n",
              "    20% {\n",
              "      border-color: transparent;\n",
              "      border-left-color: var(--fill-color);\n",
              "      border-top-color: var(--fill-color);\n",
              "    }\n",
              "    30% {\n",
              "      border-color: transparent;\n",
              "      border-left-color: var(--fill-color);\n",
              "      border-top-color: var(--fill-color);\n",
              "      border-right-color: var(--fill-color);\n",
              "    }\n",
              "    40% {\n",
              "      border-color: transparent;\n",
              "      border-right-color: var(--fill-color);\n",
              "      border-top-color: var(--fill-color);\n",
              "    }\n",
              "    60% {\n",
              "      border-color: transparent;\n",
              "      border-right-color: var(--fill-color);\n",
              "    }\n",
              "    80% {\n",
              "      border-color: transparent;\n",
              "      border-right-color: var(--fill-color);\n",
              "      border-bottom-color: var(--fill-color);\n",
              "    }\n",
              "    90% {\n",
              "      border-color: transparent;\n",
              "      border-bottom-color: var(--fill-color);\n",
              "    }\n",
              "  }\n",
              "</style>\n",
              "\n",
              "  <script>\n",
              "    async function quickchart(key) {\n",
              "      const quickchartButtonEl =\n",
              "        document.querySelector('#' + key + ' button');\n",
              "      quickchartButtonEl.disabled = true;  // To prevent multiple clicks.\n",
              "      quickchartButtonEl.classList.add('colab-df-spinner');\n",
              "      try {\n",
              "        const charts = await google.colab.kernel.invokeFunction(\n",
              "            'suggestCharts', [key], {});\n",
              "      } catch (error) {\n",
              "        console.error('Error during call to suggestCharts:', error);\n",
              "      }\n",
              "      quickchartButtonEl.classList.remove('colab-df-spinner');\n",
              "      quickchartButtonEl.classList.add('colab-df-quickchart-complete');\n",
              "    }\n",
              "    (() => {\n",
              "      let quickchartButtonEl =\n",
              "        document.querySelector('#df-526701c8-8cfe-4f78-afae-951956d6466c button');\n",
              "      quickchartButtonEl.style.display =\n",
              "        google.colab.kernel.accessAllowed ? 'block' : 'none';\n",
              "    })();\n",
              "  </script>\n",
              "</div>\n",
              "    </div>\n",
              "  </div>\n"
            ],
            "application/vnd.google.colaboratory.intrinsic+json": {
              "type": "dataframe",
              "variable_name": "ratings"
            }
          },
          "metadata": {},
          "execution_count": 2
        }
      ]
    },
    {
      "cell_type": "code",
      "source": [
        "len(ratings['userId'].unique()), len(ratings['movieId'].unique()), ratings.shape"
      ],
      "metadata": {
        "colab": {
          "base_uri": "https://localhost:8080/"
        },
        "id": "tP__sWHulcqW",
        "outputId": "784a38a6-a95d-4caf-dd42-9bb5a5a6dd2d"
      },
      "execution_count": null,
      "outputs": [
        {
          "output_type": "execute_result",
          "data": {
            "text/plain": [
              "(671, 9066, (100004, 3))"
            ]
          },
          "metadata": {},
          "execution_count": 3
        }
      ]
    },
    {
      "cell_type": "markdown",
      "source": [
        "671 пользователя, 9066 фильма"
      ],
      "metadata": {
        "id": "DUupRcVdoaKS"
      }
    },
    {
      "cell_type": "code",
      "source": [
        "invalid_rows = movies[~movies['id'].str.isnumeric()]\n",
        "invalid_rows"
      ],
      "metadata": {
        "colab": {
          "base_uri": "https://localhost:8080/",
          "height": 142
        },
        "id": "6lWPfpF4634C",
        "outputId": "8d688e1c-fef8-4191-84f2-eb65c17d8d32"
      },
      "execution_count": null,
      "outputs": [
        {
          "output_type": "execute_result",
          "data": {
            "text/plain": [
              "               id title\n",
              "19730  1997-08-20   NaN\n",
              "29503  2012-09-29   NaN\n",
              "35587  2014-01-01   NaN"
            ],
            "text/html": [
              "\n",
              "  <div id=\"df-12873875-0a44-4ca2-8b59-d6e24187c652\" class=\"colab-df-container\">\n",
              "    <div>\n",
              "<style scoped>\n",
              "    .dataframe tbody tr th:only-of-type {\n",
              "        vertical-align: middle;\n",
              "    }\n",
              "\n",
              "    .dataframe tbody tr th {\n",
              "        vertical-align: top;\n",
              "    }\n",
              "\n",
              "    .dataframe thead th {\n",
              "        text-align: right;\n",
              "    }\n",
              "</style>\n",
              "<table border=\"1\" class=\"dataframe\">\n",
              "  <thead>\n",
              "    <tr style=\"text-align: right;\">\n",
              "      <th></th>\n",
              "      <th>id</th>\n",
              "      <th>title</th>\n",
              "    </tr>\n",
              "  </thead>\n",
              "  <tbody>\n",
              "    <tr>\n",
              "      <th>19730</th>\n",
              "      <td>1997-08-20</td>\n",
              "      <td>NaN</td>\n",
              "    </tr>\n",
              "    <tr>\n",
              "      <th>29503</th>\n",
              "      <td>2012-09-29</td>\n",
              "      <td>NaN</td>\n",
              "    </tr>\n",
              "    <tr>\n",
              "      <th>35587</th>\n",
              "      <td>2014-01-01</td>\n",
              "      <td>NaN</td>\n",
              "    </tr>\n",
              "  </tbody>\n",
              "</table>\n",
              "</div>\n",
              "    <div class=\"colab-df-buttons\">\n",
              "\n",
              "  <div class=\"colab-df-container\">\n",
              "    <button class=\"colab-df-convert\" onclick=\"convertToInteractive('df-12873875-0a44-4ca2-8b59-d6e24187c652')\"\n",
              "            title=\"Convert this dataframe to an interactive table.\"\n",
              "            style=\"display:none;\">\n",
              "\n",
              "  <svg xmlns=\"http://www.w3.org/2000/svg\" height=\"24px\" viewBox=\"0 -960 960 960\">\n",
              "    <path d=\"M120-120v-720h720v720H120Zm60-500h600v-160H180v160Zm220 220h160v-160H400v160Zm0 220h160v-160H400v160ZM180-400h160v-160H180v160Zm440 0h160v-160H620v160ZM180-180h160v-160H180v160Zm440 0h160v-160H620v160Z\"/>\n",
              "  </svg>\n",
              "    </button>\n",
              "\n",
              "  <style>\n",
              "    .colab-df-container {\n",
              "      display:flex;\n",
              "      gap: 12px;\n",
              "    }\n",
              "\n",
              "    .colab-df-convert {\n",
              "      background-color: #E8F0FE;\n",
              "      border: none;\n",
              "      border-radius: 50%;\n",
              "      cursor: pointer;\n",
              "      display: none;\n",
              "      fill: #1967D2;\n",
              "      height: 32px;\n",
              "      padding: 0 0 0 0;\n",
              "      width: 32px;\n",
              "    }\n",
              "\n",
              "    .colab-df-convert:hover {\n",
              "      background-color: #E2EBFA;\n",
              "      box-shadow: 0px 1px 2px rgba(60, 64, 67, 0.3), 0px 1px 3px 1px rgba(60, 64, 67, 0.15);\n",
              "      fill: #174EA6;\n",
              "    }\n",
              "\n",
              "    .colab-df-buttons div {\n",
              "      margin-bottom: 4px;\n",
              "    }\n",
              "\n",
              "    [theme=dark] .colab-df-convert {\n",
              "      background-color: #3B4455;\n",
              "      fill: #D2E3FC;\n",
              "    }\n",
              "\n",
              "    [theme=dark] .colab-df-convert:hover {\n",
              "      background-color: #434B5C;\n",
              "      box-shadow: 0px 1px 3px 1px rgba(0, 0, 0, 0.15);\n",
              "      filter: drop-shadow(0px 1px 2px rgba(0, 0, 0, 0.3));\n",
              "      fill: #FFFFFF;\n",
              "    }\n",
              "  </style>\n",
              "\n",
              "    <script>\n",
              "      const buttonEl =\n",
              "        document.querySelector('#df-12873875-0a44-4ca2-8b59-d6e24187c652 button.colab-df-convert');\n",
              "      buttonEl.style.display =\n",
              "        google.colab.kernel.accessAllowed ? 'block' : 'none';\n",
              "\n",
              "      async function convertToInteractive(key) {\n",
              "        const element = document.querySelector('#df-12873875-0a44-4ca2-8b59-d6e24187c652');\n",
              "        const dataTable =\n",
              "          await google.colab.kernel.invokeFunction('convertToInteractive',\n",
              "                                                    [key], {});\n",
              "        if (!dataTable) return;\n",
              "\n",
              "        const docLinkHtml = 'Like what you see? Visit the ' +\n",
              "          '<a target=\"_blank\" href=https://colab.research.google.com/notebooks/data_table.ipynb>data table notebook</a>'\n",
              "          + ' to learn more about interactive tables.';\n",
              "        element.innerHTML = '';\n",
              "        dataTable['output_type'] = 'display_data';\n",
              "        await google.colab.output.renderOutput(dataTable, element);\n",
              "        const docLink = document.createElement('div');\n",
              "        docLink.innerHTML = docLinkHtml;\n",
              "        element.appendChild(docLink);\n",
              "      }\n",
              "    </script>\n",
              "  </div>\n",
              "\n",
              "\n",
              "<div id=\"df-579a4c88-74c6-471c-88b9-5fd0b2617592\">\n",
              "  <button class=\"colab-df-quickchart\" onclick=\"quickchart('df-579a4c88-74c6-471c-88b9-5fd0b2617592')\"\n",
              "            title=\"Suggest charts\"\n",
              "            style=\"display:none;\">\n",
              "\n",
              "<svg xmlns=\"http://www.w3.org/2000/svg\" height=\"24px\"viewBox=\"0 0 24 24\"\n",
              "     width=\"24px\">\n",
              "    <g>\n",
              "        <path d=\"M19 3H5c-1.1 0-2 .9-2 2v14c0 1.1.9 2 2 2h14c1.1 0 2-.9 2-2V5c0-1.1-.9-2-2-2zM9 17H7v-7h2v7zm4 0h-2V7h2v10zm4 0h-2v-4h2v4z\"/>\n",
              "    </g>\n",
              "</svg>\n",
              "  </button>\n",
              "\n",
              "<style>\n",
              "  .colab-df-quickchart {\n",
              "      --bg-color: #E8F0FE;\n",
              "      --fill-color: #1967D2;\n",
              "      --hover-bg-color: #E2EBFA;\n",
              "      --hover-fill-color: #174EA6;\n",
              "      --disabled-fill-color: #AAA;\n",
              "      --disabled-bg-color: #DDD;\n",
              "  }\n",
              "\n",
              "  [theme=dark] .colab-df-quickchart {\n",
              "      --bg-color: #3B4455;\n",
              "      --fill-color: #D2E3FC;\n",
              "      --hover-bg-color: #434B5C;\n",
              "      --hover-fill-color: #FFFFFF;\n",
              "      --disabled-bg-color: #3B4455;\n",
              "      --disabled-fill-color: #666;\n",
              "  }\n",
              "\n",
              "  .colab-df-quickchart {\n",
              "    background-color: var(--bg-color);\n",
              "    border: none;\n",
              "    border-radius: 50%;\n",
              "    cursor: pointer;\n",
              "    display: none;\n",
              "    fill: var(--fill-color);\n",
              "    height: 32px;\n",
              "    padding: 0;\n",
              "    width: 32px;\n",
              "  }\n",
              "\n",
              "  .colab-df-quickchart:hover {\n",
              "    background-color: var(--hover-bg-color);\n",
              "    box-shadow: 0 1px 2px rgba(60, 64, 67, 0.3), 0 1px 3px 1px rgba(60, 64, 67, 0.15);\n",
              "    fill: var(--button-hover-fill-color);\n",
              "  }\n",
              "\n",
              "  .colab-df-quickchart-complete:disabled,\n",
              "  .colab-df-quickchart-complete:disabled:hover {\n",
              "    background-color: var(--disabled-bg-color);\n",
              "    fill: var(--disabled-fill-color);\n",
              "    box-shadow: none;\n",
              "  }\n",
              "\n",
              "  .colab-df-spinner {\n",
              "    border: 2px solid var(--fill-color);\n",
              "    border-color: transparent;\n",
              "    border-bottom-color: var(--fill-color);\n",
              "    animation:\n",
              "      spin 1s steps(1) infinite;\n",
              "  }\n",
              "\n",
              "  @keyframes spin {\n",
              "    0% {\n",
              "      border-color: transparent;\n",
              "      border-bottom-color: var(--fill-color);\n",
              "      border-left-color: var(--fill-color);\n",
              "    }\n",
              "    20% {\n",
              "      border-color: transparent;\n",
              "      border-left-color: var(--fill-color);\n",
              "      border-top-color: var(--fill-color);\n",
              "    }\n",
              "    30% {\n",
              "      border-color: transparent;\n",
              "      border-left-color: var(--fill-color);\n",
              "      border-top-color: var(--fill-color);\n",
              "      border-right-color: var(--fill-color);\n",
              "    }\n",
              "    40% {\n",
              "      border-color: transparent;\n",
              "      border-right-color: var(--fill-color);\n",
              "      border-top-color: var(--fill-color);\n",
              "    }\n",
              "    60% {\n",
              "      border-color: transparent;\n",
              "      border-right-color: var(--fill-color);\n",
              "    }\n",
              "    80% {\n",
              "      border-color: transparent;\n",
              "      border-right-color: var(--fill-color);\n",
              "      border-bottom-color: var(--fill-color);\n",
              "    }\n",
              "    90% {\n",
              "      border-color: transparent;\n",
              "      border-bottom-color: var(--fill-color);\n",
              "    }\n",
              "  }\n",
              "</style>\n",
              "\n",
              "  <script>\n",
              "    async function quickchart(key) {\n",
              "      const quickchartButtonEl =\n",
              "        document.querySelector('#' + key + ' button');\n",
              "      quickchartButtonEl.disabled = true;  // To prevent multiple clicks.\n",
              "      quickchartButtonEl.classList.add('colab-df-spinner');\n",
              "      try {\n",
              "        const charts = await google.colab.kernel.invokeFunction(\n",
              "            'suggestCharts', [key], {});\n",
              "      } catch (error) {\n",
              "        console.error('Error during call to suggestCharts:', error);\n",
              "      }\n",
              "      quickchartButtonEl.classList.remove('colab-df-spinner');\n",
              "      quickchartButtonEl.classList.add('colab-df-quickchart-complete');\n",
              "    }\n",
              "    (() => {\n",
              "      let quickchartButtonEl =\n",
              "        document.querySelector('#df-579a4c88-74c6-471c-88b9-5fd0b2617592 button');\n",
              "      quickchartButtonEl.style.display =\n",
              "        google.colab.kernel.accessAllowed ? 'block' : 'none';\n",
              "    })();\n",
              "  </script>\n",
              "</div>\n",
              "    </div>\n",
              "  </div>\n"
            ],
            "application/vnd.google.colaboratory.intrinsic+json": {
              "type": "dataframe",
              "variable_name": "invalid_rows",
              "repr_error": "0"
            }
          },
          "metadata": {},
          "execution_count": 4
        }
      ]
    },
    {
      "cell_type": "code",
      "source": [
        "movies = movies[movies['id'].str.isnumeric()]"
      ],
      "metadata": {
        "id": "OcOamRyX7Y88"
      },
      "execution_count": null,
      "outputs": []
    },
    {
      "cell_type": "code",
      "source": [
        "movies['id'] = movies['id'].astype(int)"
      ],
      "metadata": {
        "id": "kkGMLKoz6WR3"
      },
      "execution_count": null,
      "outputs": []
    },
    {
      "cell_type": "markdown",
      "source": [
        "Соединим 2 датасета: рейтинги пользователей и датасет о фильмах, по movieId\n"
      ],
      "metadata": {
        "id": "cMd-LjBEorJ3"
      }
    },
    {
      "cell_type": "code",
      "source": [
        "info = pd.merge(ratings, movies, left_on='movieId', right_on='id').sort_values('userId')\n",
        "info = info.drop('id', axis=1)"
      ],
      "metadata": {
        "id": "_mcMh1o0nIhG"
      },
      "execution_count": null,
      "outputs": []
    },
    {
      "cell_type": "code",
      "source": [
        "info = info.drop_duplicates()\n",
        "\n",
        "num_duplicates_after = info.duplicated().sum()\n",
        "print(f'Количество дубликатов после удаления: {num_duplicates_after}')"
      ],
      "metadata": {
        "colab": {
          "base_uri": "https://localhost:8080/"
        },
        "id": "QJUcNY8jn-7B",
        "outputId": "966202ec-fc09-4133-916e-0d8623883198"
      },
      "execution_count": null,
      "outputs": [
        {
          "output_type": "stream",
          "name": "stdout",
          "text": [
            "Количество дубликатов после удаления: 0\n"
          ]
        }
      ]
    },
    {
      "cell_type": "code",
      "source": [
        "info.head()"
      ],
      "metadata": {
        "colab": {
          "base_uri": "https://localhost:8080/",
          "height": 204
        },
        "id": "GeB0tZc9FCdy",
        "outputId": "078a93a4-39d5-47dc-a05a-68dc598e12a6"
      },
      "execution_count": null,
      "outputs": [
        {
          "output_type": "execute_result",
          "data": {
            "text/plain": [
              "   userId  movieId  rating                           title\n",
              "0       1     1371     2.5                       Rocky III\n",
              "1       1     1405     1.0                           Greed\n",
              "2       1     2105     4.0                    American Pie\n",
              "3       1     2193     2.0                        My Tutor\n",
              "4       1     2294     2.0  Jay and Silent Bob Strike Back"
            ],
            "text/html": [
              "\n",
              "  <div id=\"df-ca4055e4-364e-494c-b6b8-d2c96d5b7b74\" class=\"colab-df-container\">\n",
              "    <div>\n",
              "<style scoped>\n",
              "    .dataframe tbody tr th:only-of-type {\n",
              "        vertical-align: middle;\n",
              "    }\n",
              "\n",
              "    .dataframe tbody tr th {\n",
              "        vertical-align: top;\n",
              "    }\n",
              "\n",
              "    .dataframe thead th {\n",
              "        text-align: right;\n",
              "    }\n",
              "</style>\n",
              "<table border=\"1\" class=\"dataframe\">\n",
              "  <thead>\n",
              "    <tr style=\"text-align: right;\">\n",
              "      <th></th>\n",
              "      <th>userId</th>\n",
              "      <th>movieId</th>\n",
              "      <th>rating</th>\n",
              "      <th>title</th>\n",
              "    </tr>\n",
              "  </thead>\n",
              "  <tbody>\n",
              "    <tr>\n",
              "      <th>0</th>\n",
              "      <td>1</td>\n",
              "      <td>1371</td>\n",
              "      <td>2.5</td>\n",
              "      <td>Rocky III</td>\n",
              "    </tr>\n",
              "    <tr>\n",
              "      <th>1</th>\n",
              "      <td>1</td>\n",
              "      <td>1405</td>\n",
              "      <td>1.0</td>\n",
              "      <td>Greed</td>\n",
              "    </tr>\n",
              "    <tr>\n",
              "      <th>2</th>\n",
              "      <td>1</td>\n",
              "      <td>2105</td>\n",
              "      <td>4.0</td>\n",
              "      <td>American Pie</td>\n",
              "    </tr>\n",
              "    <tr>\n",
              "      <th>3</th>\n",
              "      <td>1</td>\n",
              "      <td>2193</td>\n",
              "      <td>2.0</td>\n",
              "      <td>My Tutor</td>\n",
              "    </tr>\n",
              "    <tr>\n",
              "      <th>4</th>\n",
              "      <td>1</td>\n",
              "      <td>2294</td>\n",
              "      <td>2.0</td>\n",
              "      <td>Jay and Silent Bob Strike Back</td>\n",
              "    </tr>\n",
              "  </tbody>\n",
              "</table>\n",
              "</div>\n",
              "    <div class=\"colab-df-buttons\">\n",
              "\n",
              "  <div class=\"colab-df-container\">\n",
              "    <button class=\"colab-df-convert\" onclick=\"convertToInteractive('df-ca4055e4-364e-494c-b6b8-d2c96d5b7b74')\"\n",
              "            title=\"Convert this dataframe to an interactive table.\"\n",
              "            style=\"display:none;\">\n",
              "\n",
              "  <svg xmlns=\"http://www.w3.org/2000/svg\" height=\"24px\" viewBox=\"0 -960 960 960\">\n",
              "    <path d=\"M120-120v-720h720v720H120Zm60-500h600v-160H180v160Zm220 220h160v-160H400v160Zm0 220h160v-160H400v160ZM180-400h160v-160H180v160Zm440 0h160v-160H620v160ZM180-180h160v-160H180v160Zm440 0h160v-160H620v160Z\"/>\n",
              "  </svg>\n",
              "    </button>\n",
              "\n",
              "  <style>\n",
              "    .colab-df-container {\n",
              "      display:flex;\n",
              "      gap: 12px;\n",
              "    }\n",
              "\n",
              "    .colab-df-convert {\n",
              "      background-color: #E8F0FE;\n",
              "      border: none;\n",
              "      border-radius: 50%;\n",
              "      cursor: pointer;\n",
              "      display: none;\n",
              "      fill: #1967D2;\n",
              "      height: 32px;\n",
              "      padding: 0 0 0 0;\n",
              "      width: 32px;\n",
              "    }\n",
              "\n",
              "    .colab-df-convert:hover {\n",
              "      background-color: #E2EBFA;\n",
              "      box-shadow: 0px 1px 2px rgba(60, 64, 67, 0.3), 0px 1px 3px 1px rgba(60, 64, 67, 0.15);\n",
              "      fill: #174EA6;\n",
              "    }\n",
              "\n",
              "    .colab-df-buttons div {\n",
              "      margin-bottom: 4px;\n",
              "    }\n",
              "\n",
              "    [theme=dark] .colab-df-convert {\n",
              "      background-color: #3B4455;\n",
              "      fill: #D2E3FC;\n",
              "    }\n",
              "\n",
              "    [theme=dark] .colab-df-convert:hover {\n",
              "      background-color: #434B5C;\n",
              "      box-shadow: 0px 1px 3px 1px rgba(0, 0, 0, 0.15);\n",
              "      filter: drop-shadow(0px 1px 2px rgba(0, 0, 0, 0.3));\n",
              "      fill: #FFFFFF;\n",
              "    }\n",
              "  </style>\n",
              "\n",
              "    <script>\n",
              "      const buttonEl =\n",
              "        document.querySelector('#df-ca4055e4-364e-494c-b6b8-d2c96d5b7b74 button.colab-df-convert');\n",
              "      buttonEl.style.display =\n",
              "        google.colab.kernel.accessAllowed ? 'block' : 'none';\n",
              "\n",
              "      async function convertToInteractive(key) {\n",
              "        const element = document.querySelector('#df-ca4055e4-364e-494c-b6b8-d2c96d5b7b74');\n",
              "        const dataTable =\n",
              "          await google.colab.kernel.invokeFunction('convertToInteractive',\n",
              "                                                    [key], {});\n",
              "        if (!dataTable) return;\n",
              "\n",
              "        const docLinkHtml = 'Like what you see? Visit the ' +\n",
              "          '<a target=\"_blank\" href=https://colab.research.google.com/notebooks/data_table.ipynb>data table notebook</a>'\n",
              "          + ' to learn more about interactive tables.';\n",
              "        element.innerHTML = '';\n",
              "        dataTable['output_type'] = 'display_data';\n",
              "        await google.colab.output.renderOutput(dataTable, element);\n",
              "        const docLink = document.createElement('div');\n",
              "        docLink.innerHTML = docLinkHtml;\n",
              "        element.appendChild(docLink);\n",
              "      }\n",
              "    </script>\n",
              "  </div>\n",
              "\n",
              "\n",
              "<div id=\"df-9090358f-3b97-4475-989b-118cefeb0e96\">\n",
              "  <button class=\"colab-df-quickchart\" onclick=\"quickchart('df-9090358f-3b97-4475-989b-118cefeb0e96')\"\n",
              "            title=\"Suggest charts\"\n",
              "            style=\"display:none;\">\n",
              "\n",
              "<svg xmlns=\"http://www.w3.org/2000/svg\" height=\"24px\"viewBox=\"0 0 24 24\"\n",
              "     width=\"24px\">\n",
              "    <g>\n",
              "        <path d=\"M19 3H5c-1.1 0-2 .9-2 2v14c0 1.1.9 2 2 2h14c1.1 0 2-.9 2-2V5c0-1.1-.9-2-2-2zM9 17H7v-7h2v7zm4 0h-2V7h2v10zm4 0h-2v-4h2v4z\"/>\n",
              "    </g>\n",
              "</svg>\n",
              "  </button>\n",
              "\n",
              "<style>\n",
              "  .colab-df-quickchart {\n",
              "      --bg-color: #E8F0FE;\n",
              "      --fill-color: #1967D2;\n",
              "      --hover-bg-color: #E2EBFA;\n",
              "      --hover-fill-color: #174EA6;\n",
              "      --disabled-fill-color: #AAA;\n",
              "      --disabled-bg-color: #DDD;\n",
              "  }\n",
              "\n",
              "  [theme=dark] .colab-df-quickchart {\n",
              "      --bg-color: #3B4455;\n",
              "      --fill-color: #D2E3FC;\n",
              "      --hover-bg-color: #434B5C;\n",
              "      --hover-fill-color: #FFFFFF;\n",
              "      --disabled-bg-color: #3B4455;\n",
              "      --disabled-fill-color: #666;\n",
              "  }\n",
              "\n",
              "  .colab-df-quickchart {\n",
              "    background-color: var(--bg-color);\n",
              "    border: none;\n",
              "    border-radius: 50%;\n",
              "    cursor: pointer;\n",
              "    display: none;\n",
              "    fill: var(--fill-color);\n",
              "    height: 32px;\n",
              "    padding: 0;\n",
              "    width: 32px;\n",
              "  }\n",
              "\n",
              "  .colab-df-quickchart:hover {\n",
              "    background-color: var(--hover-bg-color);\n",
              "    box-shadow: 0 1px 2px rgba(60, 64, 67, 0.3), 0 1px 3px 1px rgba(60, 64, 67, 0.15);\n",
              "    fill: var(--button-hover-fill-color);\n",
              "  }\n",
              "\n",
              "  .colab-df-quickchart-complete:disabled,\n",
              "  .colab-df-quickchart-complete:disabled:hover {\n",
              "    background-color: var(--disabled-bg-color);\n",
              "    fill: var(--disabled-fill-color);\n",
              "    box-shadow: none;\n",
              "  }\n",
              "\n",
              "  .colab-df-spinner {\n",
              "    border: 2px solid var(--fill-color);\n",
              "    border-color: transparent;\n",
              "    border-bottom-color: var(--fill-color);\n",
              "    animation:\n",
              "      spin 1s steps(1) infinite;\n",
              "  }\n",
              "\n",
              "  @keyframes spin {\n",
              "    0% {\n",
              "      border-color: transparent;\n",
              "      border-bottom-color: var(--fill-color);\n",
              "      border-left-color: var(--fill-color);\n",
              "    }\n",
              "    20% {\n",
              "      border-color: transparent;\n",
              "      border-left-color: var(--fill-color);\n",
              "      border-top-color: var(--fill-color);\n",
              "    }\n",
              "    30% {\n",
              "      border-color: transparent;\n",
              "      border-left-color: var(--fill-color);\n",
              "      border-top-color: var(--fill-color);\n",
              "      border-right-color: var(--fill-color);\n",
              "    }\n",
              "    40% {\n",
              "      border-color: transparent;\n",
              "      border-right-color: var(--fill-color);\n",
              "      border-top-color: var(--fill-color);\n",
              "    }\n",
              "    60% {\n",
              "      border-color: transparent;\n",
              "      border-right-color: var(--fill-color);\n",
              "    }\n",
              "    80% {\n",
              "      border-color: transparent;\n",
              "      border-right-color: var(--fill-color);\n",
              "      border-bottom-color: var(--fill-color);\n",
              "    }\n",
              "    90% {\n",
              "      border-color: transparent;\n",
              "      border-bottom-color: var(--fill-color);\n",
              "    }\n",
              "  }\n",
              "</style>\n",
              "\n",
              "  <script>\n",
              "    async function quickchart(key) {\n",
              "      const quickchartButtonEl =\n",
              "        document.querySelector('#' + key + ' button');\n",
              "      quickchartButtonEl.disabled = true;  // To prevent multiple clicks.\n",
              "      quickchartButtonEl.classList.add('colab-df-spinner');\n",
              "      try {\n",
              "        const charts = await google.colab.kernel.invokeFunction(\n",
              "            'suggestCharts', [key], {});\n",
              "      } catch (error) {\n",
              "        console.error('Error during call to suggestCharts:', error);\n",
              "      }\n",
              "      quickchartButtonEl.classList.remove('colab-df-spinner');\n",
              "      quickchartButtonEl.classList.add('colab-df-quickchart-complete');\n",
              "    }\n",
              "    (() => {\n",
              "      let quickchartButtonEl =\n",
              "        document.querySelector('#df-9090358f-3b97-4475-989b-118cefeb0e96 button');\n",
              "      quickchartButtonEl.style.display =\n",
              "        google.colab.kernel.accessAllowed ? 'block' : 'none';\n",
              "    })();\n",
              "  </script>\n",
              "</div>\n",
              "    </div>\n",
              "  </div>\n"
            ],
            "application/vnd.google.colaboratory.intrinsic+json": {
              "type": "dataframe",
              "variable_name": "info",
              "summary": "{\n  \"name\": \"info\",\n  \"rows\": 44989,\n  \"fields\": [\n    {\n      \"column\": \"userId\",\n      \"properties\": {\n        \"dtype\": \"number\",\n        \"std\": 194,\n        \"min\": 1,\n        \"max\": 671,\n        \"num_unique_values\": 671,\n        \"samples\": [\n          362,\n          159,\n          481\n        ],\n        \"semantic_type\": \"\",\n        \"description\": \"\"\n      }\n    },\n    {\n      \"column\": \"movieId\",\n      \"properties\": {\n        \"dtype\": \"number\",\n        \"std\": 15919,\n        \"min\": 2,\n        \"max\": 160718,\n        \"num_unique_values\": 2830,\n        \"samples\": [\n          4498,\n          47518,\n          1497\n        ],\n        \"semantic_type\": \"\",\n        \"description\": \"\"\n      }\n    },\n    {\n      \"column\": \"rating\",\n      \"properties\": {\n        \"dtype\": \"number\",\n        \"std\": 1.053200907840373,\n        \"min\": 0.5,\n        \"max\": 5.0,\n        \"num_unique_values\": 10,\n        \"samples\": [\n          1.5,\n          1.0,\n          5.0\n        ],\n        \"semantic_type\": \"\",\n        \"description\": \"\"\n      }\n    },\n    {\n      \"column\": \"title\",\n      \"properties\": {\n        \"dtype\": \"category\",\n        \"num_unique_values\": 2794,\n        \"samples\": [\n          \"Blondie of the Follies\",\n          \"Death Smiles on a Murderer\",\n          \"The Great Los Angeles Earthquake\"\n        ],\n        \"semantic_type\": \"\",\n        \"description\": \"\"\n      }\n    }\n  ]\n}"
            }
          },
          "metadata": {},
          "execution_count": 9
        }
      ]
    },
    {
      "cell_type": "markdown",
      "source": [
        "Можем заметить, что фильмов у нас меньше чемв изначальном датасете, а movieId\tсоответсвуют тому датасету. Можем изменить их movieId\t, основываясь теперь на уникальных значениях в этом датасете."
      ],
      "metadata": {
        "id": "N4GSOaSno-3j"
      }
    },
    {
      "cell_type": "code",
      "source": [
        "uniq_m_id = info['movieId'].unique()\n",
        "uniq_u_id = info['userId'].unique()\n",
        "\n",
        "def calculate_m(x):\n",
        "  ind = np.where(uniq_m_id == x)[0][0] + 1\n",
        "  return ind\n",
        "\n",
        "def calculate_u(x):\n",
        "  ind = np.where(uniq_u_id == x)[0][0] + 1\n",
        "  return ind\n",
        "\n",
        "info['movieId'] = info['movieId'].apply(calculate_m)\n",
        "info['userId'] = info['userId'].apply(calculate_u)\n",
        "\n",
        "info.head()"
      ],
      "metadata": {
        "colab": {
          "base_uri": "https://localhost:8080/",
          "height": 204
        },
        "id": "BZzHdho68S5t",
        "outputId": "abcdef8e-9a39-411d-9710-9e21cfa6e3fe"
      },
      "execution_count": null,
      "outputs": [
        {
          "output_type": "execute_result",
          "data": {
            "text/plain": [
              "   userId  movieId  rating                           title\n",
              "0       1        1     2.5                       Rocky III\n",
              "1       1        2     1.0                           Greed\n",
              "2       1        3     4.0                    American Pie\n",
              "3       1        4     2.0                        My Tutor\n",
              "4       1        5     2.0  Jay and Silent Bob Strike Back"
            ],
            "text/html": [
              "\n",
              "  <div id=\"df-6bebfc0a-9438-4e39-97ec-467b6fedefc2\" class=\"colab-df-container\">\n",
              "    <div>\n",
              "<style scoped>\n",
              "    .dataframe tbody tr th:only-of-type {\n",
              "        vertical-align: middle;\n",
              "    }\n",
              "\n",
              "    .dataframe tbody tr th {\n",
              "        vertical-align: top;\n",
              "    }\n",
              "\n",
              "    .dataframe thead th {\n",
              "        text-align: right;\n",
              "    }\n",
              "</style>\n",
              "<table border=\"1\" class=\"dataframe\">\n",
              "  <thead>\n",
              "    <tr style=\"text-align: right;\">\n",
              "      <th></th>\n",
              "      <th>userId</th>\n",
              "      <th>movieId</th>\n",
              "      <th>rating</th>\n",
              "      <th>title</th>\n",
              "    </tr>\n",
              "  </thead>\n",
              "  <tbody>\n",
              "    <tr>\n",
              "      <th>0</th>\n",
              "      <td>1</td>\n",
              "      <td>1</td>\n",
              "      <td>2.5</td>\n",
              "      <td>Rocky III</td>\n",
              "    </tr>\n",
              "    <tr>\n",
              "      <th>1</th>\n",
              "      <td>1</td>\n",
              "      <td>2</td>\n",
              "      <td>1.0</td>\n",
              "      <td>Greed</td>\n",
              "    </tr>\n",
              "    <tr>\n",
              "      <th>2</th>\n",
              "      <td>1</td>\n",
              "      <td>3</td>\n",
              "      <td>4.0</td>\n",
              "      <td>American Pie</td>\n",
              "    </tr>\n",
              "    <tr>\n",
              "      <th>3</th>\n",
              "      <td>1</td>\n",
              "      <td>4</td>\n",
              "      <td>2.0</td>\n",
              "      <td>My Tutor</td>\n",
              "    </tr>\n",
              "    <tr>\n",
              "      <th>4</th>\n",
              "      <td>1</td>\n",
              "      <td>5</td>\n",
              "      <td>2.0</td>\n",
              "      <td>Jay and Silent Bob Strike Back</td>\n",
              "    </tr>\n",
              "  </tbody>\n",
              "</table>\n",
              "</div>\n",
              "    <div class=\"colab-df-buttons\">\n",
              "\n",
              "  <div class=\"colab-df-container\">\n",
              "    <button class=\"colab-df-convert\" onclick=\"convertToInteractive('df-6bebfc0a-9438-4e39-97ec-467b6fedefc2')\"\n",
              "            title=\"Convert this dataframe to an interactive table.\"\n",
              "            style=\"display:none;\">\n",
              "\n",
              "  <svg xmlns=\"http://www.w3.org/2000/svg\" height=\"24px\" viewBox=\"0 -960 960 960\">\n",
              "    <path d=\"M120-120v-720h720v720H120Zm60-500h600v-160H180v160Zm220 220h160v-160H400v160Zm0 220h160v-160H400v160ZM180-400h160v-160H180v160Zm440 0h160v-160H620v160ZM180-180h160v-160H180v160Zm440 0h160v-160H620v160Z\"/>\n",
              "  </svg>\n",
              "    </button>\n",
              "\n",
              "  <style>\n",
              "    .colab-df-container {\n",
              "      display:flex;\n",
              "      gap: 12px;\n",
              "    }\n",
              "\n",
              "    .colab-df-convert {\n",
              "      background-color: #E8F0FE;\n",
              "      border: none;\n",
              "      border-radius: 50%;\n",
              "      cursor: pointer;\n",
              "      display: none;\n",
              "      fill: #1967D2;\n",
              "      height: 32px;\n",
              "      padding: 0 0 0 0;\n",
              "      width: 32px;\n",
              "    }\n",
              "\n",
              "    .colab-df-convert:hover {\n",
              "      background-color: #E2EBFA;\n",
              "      box-shadow: 0px 1px 2px rgba(60, 64, 67, 0.3), 0px 1px 3px 1px rgba(60, 64, 67, 0.15);\n",
              "      fill: #174EA6;\n",
              "    }\n",
              "\n",
              "    .colab-df-buttons div {\n",
              "      margin-bottom: 4px;\n",
              "    }\n",
              "\n",
              "    [theme=dark] .colab-df-convert {\n",
              "      background-color: #3B4455;\n",
              "      fill: #D2E3FC;\n",
              "    }\n",
              "\n",
              "    [theme=dark] .colab-df-convert:hover {\n",
              "      background-color: #434B5C;\n",
              "      box-shadow: 0px 1px 3px 1px rgba(0, 0, 0, 0.15);\n",
              "      filter: drop-shadow(0px 1px 2px rgba(0, 0, 0, 0.3));\n",
              "      fill: #FFFFFF;\n",
              "    }\n",
              "  </style>\n",
              "\n",
              "    <script>\n",
              "      const buttonEl =\n",
              "        document.querySelector('#df-6bebfc0a-9438-4e39-97ec-467b6fedefc2 button.colab-df-convert');\n",
              "      buttonEl.style.display =\n",
              "        google.colab.kernel.accessAllowed ? 'block' : 'none';\n",
              "\n",
              "      async function convertToInteractive(key) {\n",
              "        const element = document.querySelector('#df-6bebfc0a-9438-4e39-97ec-467b6fedefc2');\n",
              "        const dataTable =\n",
              "          await google.colab.kernel.invokeFunction('convertToInteractive',\n",
              "                                                    [key], {});\n",
              "        if (!dataTable) return;\n",
              "\n",
              "        const docLinkHtml = 'Like what you see? Visit the ' +\n",
              "          '<a target=\"_blank\" href=https://colab.research.google.com/notebooks/data_table.ipynb>data table notebook</a>'\n",
              "          + ' to learn more about interactive tables.';\n",
              "        element.innerHTML = '';\n",
              "        dataTable['output_type'] = 'display_data';\n",
              "        await google.colab.output.renderOutput(dataTable, element);\n",
              "        const docLink = document.createElement('div');\n",
              "        docLink.innerHTML = docLinkHtml;\n",
              "        element.appendChild(docLink);\n",
              "      }\n",
              "    </script>\n",
              "  </div>\n",
              "\n",
              "\n",
              "<div id=\"df-45dafbb7-893f-40d8-8d0e-ced644fa0724\">\n",
              "  <button class=\"colab-df-quickchart\" onclick=\"quickchart('df-45dafbb7-893f-40d8-8d0e-ced644fa0724')\"\n",
              "            title=\"Suggest charts\"\n",
              "            style=\"display:none;\">\n",
              "\n",
              "<svg xmlns=\"http://www.w3.org/2000/svg\" height=\"24px\"viewBox=\"0 0 24 24\"\n",
              "     width=\"24px\">\n",
              "    <g>\n",
              "        <path d=\"M19 3H5c-1.1 0-2 .9-2 2v14c0 1.1.9 2 2 2h14c1.1 0 2-.9 2-2V5c0-1.1-.9-2-2-2zM9 17H7v-7h2v7zm4 0h-2V7h2v10zm4 0h-2v-4h2v4z\"/>\n",
              "    </g>\n",
              "</svg>\n",
              "  </button>\n",
              "\n",
              "<style>\n",
              "  .colab-df-quickchart {\n",
              "      --bg-color: #E8F0FE;\n",
              "      --fill-color: #1967D2;\n",
              "      --hover-bg-color: #E2EBFA;\n",
              "      --hover-fill-color: #174EA6;\n",
              "      --disabled-fill-color: #AAA;\n",
              "      --disabled-bg-color: #DDD;\n",
              "  }\n",
              "\n",
              "  [theme=dark] .colab-df-quickchart {\n",
              "      --bg-color: #3B4455;\n",
              "      --fill-color: #D2E3FC;\n",
              "      --hover-bg-color: #434B5C;\n",
              "      --hover-fill-color: #FFFFFF;\n",
              "      --disabled-bg-color: #3B4455;\n",
              "      --disabled-fill-color: #666;\n",
              "  }\n",
              "\n",
              "  .colab-df-quickchart {\n",
              "    background-color: var(--bg-color);\n",
              "    border: none;\n",
              "    border-radius: 50%;\n",
              "    cursor: pointer;\n",
              "    display: none;\n",
              "    fill: var(--fill-color);\n",
              "    height: 32px;\n",
              "    padding: 0;\n",
              "    width: 32px;\n",
              "  }\n",
              "\n",
              "  .colab-df-quickchart:hover {\n",
              "    background-color: var(--hover-bg-color);\n",
              "    box-shadow: 0 1px 2px rgba(60, 64, 67, 0.3), 0 1px 3px 1px rgba(60, 64, 67, 0.15);\n",
              "    fill: var(--button-hover-fill-color);\n",
              "  }\n",
              "\n",
              "  .colab-df-quickchart-complete:disabled,\n",
              "  .colab-df-quickchart-complete:disabled:hover {\n",
              "    background-color: var(--disabled-bg-color);\n",
              "    fill: var(--disabled-fill-color);\n",
              "    box-shadow: none;\n",
              "  }\n",
              "\n",
              "  .colab-df-spinner {\n",
              "    border: 2px solid var(--fill-color);\n",
              "    border-color: transparent;\n",
              "    border-bottom-color: var(--fill-color);\n",
              "    animation:\n",
              "      spin 1s steps(1) infinite;\n",
              "  }\n",
              "\n",
              "  @keyframes spin {\n",
              "    0% {\n",
              "      border-color: transparent;\n",
              "      border-bottom-color: var(--fill-color);\n",
              "      border-left-color: var(--fill-color);\n",
              "    }\n",
              "    20% {\n",
              "      border-color: transparent;\n",
              "      border-left-color: var(--fill-color);\n",
              "      border-top-color: var(--fill-color);\n",
              "    }\n",
              "    30% {\n",
              "      border-color: transparent;\n",
              "      border-left-color: var(--fill-color);\n",
              "      border-top-color: var(--fill-color);\n",
              "      border-right-color: var(--fill-color);\n",
              "    }\n",
              "    40% {\n",
              "      border-color: transparent;\n",
              "      border-right-color: var(--fill-color);\n",
              "      border-top-color: var(--fill-color);\n",
              "    }\n",
              "    60% {\n",
              "      border-color: transparent;\n",
              "      border-right-color: var(--fill-color);\n",
              "    }\n",
              "    80% {\n",
              "      border-color: transparent;\n",
              "      border-right-color: var(--fill-color);\n",
              "      border-bottom-color: var(--fill-color);\n",
              "    }\n",
              "    90% {\n",
              "      border-color: transparent;\n",
              "      border-bottom-color: var(--fill-color);\n",
              "    }\n",
              "  }\n",
              "</style>\n",
              "\n",
              "  <script>\n",
              "    async function quickchart(key) {\n",
              "      const quickchartButtonEl =\n",
              "        document.querySelector('#' + key + ' button');\n",
              "      quickchartButtonEl.disabled = true;  // To prevent multiple clicks.\n",
              "      quickchartButtonEl.classList.add('colab-df-spinner');\n",
              "      try {\n",
              "        const charts = await google.colab.kernel.invokeFunction(\n",
              "            'suggestCharts', [key], {});\n",
              "      } catch (error) {\n",
              "        console.error('Error during call to suggestCharts:', error);\n",
              "      }\n",
              "      quickchartButtonEl.classList.remove('colab-df-spinner');\n",
              "      quickchartButtonEl.classList.add('colab-df-quickchart-complete');\n",
              "    }\n",
              "    (() => {\n",
              "      let quickchartButtonEl =\n",
              "        document.querySelector('#df-45dafbb7-893f-40d8-8d0e-ced644fa0724 button');\n",
              "      quickchartButtonEl.style.display =\n",
              "        google.colab.kernel.accessAllowed ? 'block' : 'none';\n",
              "    })();\n",
              "  </script>\n",
              "</div>\n",
              "    </div>\n",
              "  </div>\n"
            ],
            "application/vnd.google.colaboratory.intrinsic+json": {
              "type": "dataframe",
              "variable_name": "info",
              "summary": "{\n  \"name\": \"info\",\n  \"rows\": 44989,\n  \"fields\": [\n    {\n      \"column\": \"userId\",\n      \"properties\": {\n        \"dtype\": \"number\",\n        \"std\": 194,\n        \"min\": 1,\n        \"max\": 671,\n        \"num_unique_values\": 671,\n        \"samples\": [\n          362,\n          159,\n          481\n        ],\n        \"semantic_type\": \"\",\n        \"description\": \"\"\n      }\n    },\n    {\n      \"column\": \"movieId\",\n      \"properties\": {\n        \"dtype\": \"number\",\n        \"std\": 560,\n        \"min\": 1,\n        \"max\": 2830,\n        \"num_unique_values\": 2830,\n        \"samples\": [\n          1026,\n          1414,\n          2239\n        ],\n        \"semantic_type\": \"\",\n        \"description\": \"\"\n      }\n    },\n    {\n      \"column\": \"rating\",\n      \"properties\": {\n        \"dtype\": \"number\",\n        \"std\": 1.053200907840373,\n        \"min\": 0.5,\n        \"max\": 5.0,\n        \"num_unique_values\": 10,\n        \"samples\": [\n          1.5,\n          1.0,\n          5.0\n        ],\n        \"semantic_type\": \"\",\n        \"description\": \"\"\n      }\n    },\n    {\n      \"column\": \"title\",\n      \"properties\": {\n        \"dtype\": \"category\",\n        \"num_unique_values\": 2794,\n        \"samples\": [\n          \"Blondie of the Follies\",\n          \"Death Smiles on a Murderer\",\n          \"The Great Los Angeles Earthquake\"\n        ],\n        \"semantic_type\": \"\",\n        \"description\": \"\"\n      }\n    }\n  ]\n}"
            }
          },
          "metadata": {},
          "execution_count": 10
        }
      ]
    },
    {
      "cell_type": "markdown",
      "source": [
        "Разобьем на трейн и тест наши данные."
      ],
      "metadata": {
        "id": "1s4N6tB0FSqi"
      }
    },
    {
      "cell_type": "code",
      "source": [
        "train_df, test_df = train_test_split(info, test_size=0.2)\n",
        "train_df.shape, test_df.shape"
      ],
      "metadata": {
        "colab": {
          "base_uri": "https://localhost:8080/"
        },
        "id": "LiSDhwtpFc1l",
        "outputId": "bc7c8a41-1fd9-4bc3-a537-ab1a662a1122"
      },
      "execution_count": null,
      "outputs": [
        {
          "output_type": "execute_result",
          "data": {
            "text/plain": [
              "((35991, 4), (8998, 4))"
            ]
          },
          "metadata": {},
          "execution_count": 11
        }
      ]
    },
    {
      "cell_type": "code",
      "source": [
        "train_df.head()"
      ],
      "metadata": {
        "colab": {
          "base_uri": "https://localhost:8080/",
          "height": 204
        },
        "id": "sngFHNaIDu8U",
        "outputId": "2360937d-697a-4f0d-f06e-7dfc4ef241c3"
      },
      "execution_count": null,
      "outputs": [
        {
          "output_type": "execute_result",
          "data": {
            "text/plain": [
              "       userId  movieId  rating                       title\n",
              "4841       73      707     3.5                        2010\n",
              "44201     656      189     4.0                   The Prize\n",
              "44669     665       25     3.0                 Wag the Dog\n",
              "15475     243      212     3.0                  Get Carter\n",
              "19645     310      271     3.0  Interview with the Vampire"
            ],
            "text/html": [
              "\n",
              "  <div id=\"df-b7a38e41-dfbb-47dc-9afd-72a82bacad29\" class=\"colab-df-container\">\n",
              "    <div>\n",
              "<style scoped>\n",
              "    .dataframe tbody tr th:only-of-type {\n",
              "        vertical-align: middle;\n",
              "    }\n",
              "\n",
              "    .dataframe tbody tr th {\n",
              "        vertical-align: top;\n",
              "    }\n",
              "\n",
              "    .dataframe thead th {\n",
              "        text-align: right;\n",
              "    }\n",
              "</style>\n",
              "<table border=\"1\" class=\"dataframe\">\n",
              "  <thead>\n",
              "    <tr style=\"text-align: right;\">\n",
              "      <th></th>\n",
              "      <th>userId</th>\n",
              "      <th>movieId</th>\n",
              "      <th>rating</th>\n",
              "      <th>title</th>\n",
              "    </tr>\n",
              "  </thead>\n",
              "  <tbody>\n",
              "    <tr>\n",
              "      <th>4841</th>\n",
              "      <td>73</td>\n",
              "      <td>707</td>\n",
              "      <td>3.5</td>\n",
              "      <td>2010</td>\n",
              "    </tr>\n",
              "    <tr>\n",
              "      <th>44201</th>\n",
              "      <td>656</td>\n",
              "      <td>189</td>\n",
              "      <td>4.0</td>\n",
              "      <td>The Prize</td>\n",
              "    </tr>\n",
              "    <tr>\n",
              "      <th>44669</th>\n",
              "      <td>665</td>\n",
              "      <td>25</td>\n",
              "      <td>3.0</td>\n",
              "      <td>Wag the Dog</td>\n",
              "    </tr>\n",
              "    <tr>\n",
              "      <th>15475</th>\n",
              "      <td>243</td>\n",
              "      <td>212</td>\n",
              "      <td>3.0</td>\n",
              "      <td>Get Carter</td>\n",
              "    </tr>\n",
              "    <tr>\n",
              "      <th>19645</th>\n",
              "      <td>310</td>\n",
              "      <td>271</td>\n",
              "      <td>3.0</td>\n",
              "      <td>Interview with the Vampire</td>\n",
              "    </tr>\n",
              "  </tbody>\n",
              "</table>\n",
              "</div>\n",
              "    <div class=\"colab-df-buttons\">\n",
              "\n",
              "  <div class=\"colab-df-container\">\n",
              "    <button class=\"colab-df-convert\" onclick=\"convertToInteractive('df-b7a38e41-dfbb-47dc-9afd-72a82bacad29')\"\n",
              "            title=\"Convert this dataframe to an interactive table.\"\n",
              "            style=\"display:none;\">\n",
              "\n",
              "  <svg xmlns=\"http://www.w3.org/2000/svg\" height=\"24px\" viewBox=\"0 -960 960 960\">\n",
              "    <path d=\"M120-120v-720h720v720H120Zm60-500h600v-160H180v160Zm220 220h160v-160H400v160Zm0 220h160v-160H400v160ZM180-400h160v-160H180v160Zm440 0h160v-160H620v160ZM180-180h160v-160H180v160Zm440 0h160v-160H620v160Z\"/>\n",
              "  </svg>\n",
              "    </button>\n",
              "\n",
              "  <style>\n",
              "    .colab-df-container {\n",
              "      display:flex;\n",
              "      gap: 12px;\n",
              "    }\n",
              "\n",
              "    .colab-df-convert {\n",
              "      background-color: #E8F0FE;\n",
              "      border: none;\n",
              "      border-radius: 50%;\n",
              "      cursor: pointer;\n",
              "      display: none;\n",
              "      fill: #1967D2;\n",
              "      height: 32px;\n",
              "      padding: 0 0 0 0;\n",
              "      width: 32px;\n",
              "    }\n",
              "\n",
              "    .colab-df-convert:hover {\n",
              "      background-color: #E2EBFA;\n",
              "      box-shadow: 0px 1px 2px rgba(60, 64, 67, 0.3), 0px 1px 3px 1px rgba(60, 64, 67, 0.15);\n",
              "      fill: #174EA6;\n",
              "    }\n",
              "\n",
              "    .colab-df-buttons div {\n",
              "      margin-bottom: 4px;\n",
              "    }\n",
              "\n",
              "    [theme=dark] .colab-df-convert {\n",
              "      background-color: #3B4455;\n",
              "      fill: #D2E3FC;\n",
              "    }\n",
              "\n",
              "    [theme=dark] .colab-df-convert:hover {\n",
              "      background-color: #434B5C;\n",
              "      box-shadow: 0px 1px 3px 1px rgba(0, 0, 0, 0.15);\n",
              "      filter: drop-shadow(0px 1px 2px rgba(0, 0, 0, 0.3));\n",
              "      fill: #FFFFFF;\n",
              "    }\n",
              "  </style>\n",
              "\n",
              "    <script>\n",
              "      const buttonEl =\n",
              "        document.querySelector('#df-b7a38e41-dfbb-47dc-9afd-72a82bacad29 button.colab-df-convert');\n",
              "      buttonEl.style.display =\n",
              "        google.colab.kernel.accessAllowed ? 'block' : 'none';\n",
              "\n",
              "      async function convertToInteractive(key) {\n",
              "        const element = document.querySelector('#df-b7a38e41-dfbb-47dc-9afd-72a82bacad29');\n",
              "        const dataTable =\n",
              "          await google.colab.kernel.invokeFunction('convertToInteractive',\n",
              "                                                    [key], {});\n",
              "        if (!dataTable) return;\n",
              "\n",
              "        const docLinkHtml = 'Like what you see? Visit the ' +\n",
              "          '<a target=\"_blank\" href=https://colab.research.google.com/notebooks/data_table.ipynb>data table notebook</a>'\n",
              "          + ' to learn more about interactive tables.';\n",
              "        element.innerHTML = '';\n",
              "        dataTable['output_type'] = 'display_data';\n",
              "        await google.colab.output.renderOutput(dataTable, element);\n",
              "        const docLink = document.createElement('div');\n",
              "        docLink.innerHTML = docLinkHtml;\n",
              "        element.appendChild(docLink);\n",
              "      }\n",
              "    </script>\n",
              "  </div>\n",
              "\n",
              "\n",
              "<div id=\"df-e9e81450-2744-4dd4-aa27-57d22508d8ef\">\n",
              "  <button class=\"colab-df-quickchart\" onclick=\"quickchart('df-e9e81450-2744-4dd4-aa27-57d22508d8ef')\"\n",
              "            title=\"Suggest charts\"\n",
              "            style=\"display:none;\">\n",
              "\n",
              "<svg xmlns=\"http://www.w3.org/2000/svg\" height=\"24px\"viewBox=\"0 0 24 24\"\n",
              "     width=\"24px\">\n",
              "    <g>\n",
              "        <path d=\"M19 3H5c-1.1 0-2 .9-2 2v14c0 1.1.9 2 2 2h14c1.1 0 2-.9 2-2V5c0-1.1-.9-2-2-2zM9 17H7v-7h2v7zm4 0h-2V7h2v10zm4 0h-2v-4h2v4z\"/>\n",
              "    </g>\n",
              "</svg>\n",
              "  </button>\n",
              "\n",
              "<style>\n",
              "  .colab-df-quickchart {\n",
              "      --bg-color: #E8F0FE;\n",
              "      --fill-color: #1967D2;\n",
              "      --hover-bg-color: #E2EBFA;\n",
              "      --hover-fill-color: #174EA6;\n",
              "      --disabled-fill-color: #AAA;\n",
              "      --disabled-bg-color: #DDD;\n",
              "  }\n",
              "\n",
              "  [theme=dark] .colab-df-quickchart {\n",
              "      --bg-color: #3B4455;\n",
              "      --fill-color: #D2E3FC;\n",
              "      --hover-bg-color: #434B5C;\n",
              "      --hover-fill-color: #FFFFFF;\n",
              "      --disabled-bg-color: #3B4455;\n",
              "      --disabled-fill-color: #666;\n",
              "  }\n",
              "\n",
              "  .colab-df-quickchart {\n",
              "    background-color: var(--bg-color);\n",
              "    border: none;\n",
              "    border-radius: 50%;\n",
              "    cursor: pointer;\n",
              "    display: none;\n",
              "    fill: var(--fill-color);\n",
              "    height: 32px;\n",
              "    padding: 0;\n",
              "    width: 32px;\n",
              "  }\n",
              "\n",
              "  .colab-df-quickchart:hover {\n",
              "    background-color: var(--hover-bg-color);\n",
              "    box-shadow: 0 1px 2px rgba(60, 64, 67, 0.3), 0 1px 3px 1px rgba(60, 64, 67, 0.15);\n",
              "    fill: var(--button-hover-fill-color);\n",
              "  }\n",
              "\n",
              "  .colab-df-quickchart-complete:disabled,\n",
              "  .colab-df-quickchart-complete:disabled:hover {\n",
              "    background-color: var(--disabled-bg-color);\n",
              "    fill: var(--disabled-fill-color);\n",
              "    box-shadow: none;\n",
              "  }\n",
              "\n",
              "  .colab-df-spinner {\n",
              "    border: 2px solid var(--fill-color);\n",
              "    border-color: transparent;\n",
              "    border-bottom-color: var(--fill-color);\n",
              "    animation:\n",
              "      spin 1s steps(1) infinite;\n",
              "  }\n",
              "\n",
              "  @keyframes spin {\n",
              "    0% {\n",
              "      border-color: transparent;\n",
              "      border-bottom-color: var(--fill-color);\n",
              "      border-left-color: var(--fill-color);\n",
              "    }\n",
              "    20% {\n",
              "      border-color: transparent;\n",
              "      border-left-color: var(--fill-color);\n",
              "      border-top-color: var(--fill-color);\n",
              "    }\n",
              "    30% {\n",
              "      border-color: transparent;\n",
              "      border-left-color: var(--fill-color);\n",
              "      border-top-color: var(--fill-color);\n",
              "      border-right-color: var(--fill-color);\n",
              "    }\n",
              "    40% {\n",
              "      border-color: transparent;\n",
              "      border-right-color: var(--fill-color);\n",
              "      border-top-color: var(--fill-color);\n",
              "    }\n",
              "    60% {\n",
              "      border-color: transparent;\n",
              "      border-right-color: var(--fill-color);\n",
              "    }\n",
              "    80% {\n",
              "      border-color: transparent;\n",
              "      border-right-color: var(--fill-color);\n",
              "      border-bottom-color: var(--fill-color);\n",
              "    }\n",
              "    90% {\n",
              "      border-color: transparent;\n",
              "      border-bottom-color: var(--fill-color);\n",
              "    }\n",
              "  }\n",
              "</style>\n",
              "\n",
              "  <script>\n",
              "    async function quickchart(key) {\n",
              "      const quickchartButtonEl =\n",
              "        document.querySelector('#' + key + ' button');\n",
              "      quickchartButtonEl.disabled = true;  // To prevent multiple clicks.\n",
              "      quickchartButtonEl.classList.add('colab-df-spinner');\n",
              "      try {\n",
              "        const charts = await google.colab.kernel.invokeFunction(\n",
              "            'suggestCharts', [key], {});\n",
              "      } catch (error) {\n",
              "        console.error('Error during call to suggestCharts:', error);\n",
              "      }\n",
              "      quickchartButtonEl.classList.remove('colab-df-spinner');\n",
              "      quickchartButtonEl.classList.add('colab-df-quickchart-complete');\n",
              "    }\n",
              "    (() => {\n",
              "      let quickchartButtonEl =\n",
              "        document.querySelector('#df-e9e81450-2744-4dd4-aa27-57d22508d8ef button');\n",
              "      quickchartButtonEl.style.display =\n",
              "        google.colab.kernel.accessAllowed ? 'block' : 'none';\n",
              "    })();\n",
              "  </script>\n",
              "</div>\n",
              "    </div>\n",
              "  </div>\n"
            ],
            "application/vnd.google.colaboratory.intrinsic+json": {
              "type": "dataframe",
              "variable_name": "train_df",
              "summary": "{\n  \"name\": \"train_df\",\n  \"rows\": 35991,\n  \"fields\": [\n    {\n      \"column\": \"userId\",\n      \"properties\": {\n        \"dtype\": \"number\",\n        \"std\": 194,\n        \"min\": 1,\n        \"max\": 671,\n        \"num_unique_values\": 671,\n        \"samples\": [\n          523,\n          294,\n          371\n        ],\n        \"semantic_type\": \"\",\n        \"description\": \"\"\n      }\n    },\n    {\n      \"column\": \"movieId\",\n      \"properties\": {\n        \"dtype\": \"number\",\n        \"std\": 559,\n        \"min\": 1,\n        \"max\": 2829,\n        \"num_unique_values\": 2662,\n        \"samples\": [\n          1031,\n          73,\n          529\n        ],\n        \"semantic_type\": \"\",\n        \"description\": \"\"\n      }\n    },\n    {\n      \"column\": \"rating\",\n      \"properties\": {\n        \"dtype\": \"number\",\n        \"std\": 1.0559601222371615,\n        \"min\": 0.5,\n        \"max\": 5.0,\n        \"num_unique_values\": 10,\n        \"samples\": [\n          1.0,\n          4.0,\n          4.5\n        ],\n        \"semantic_type\": \"\",\n        \"description\": \"\"\n      }\n    },\n    {\n      \"column\": \"title\",\n      \"properties\": {\n        \"dtype\": \"category\",\n        \"num_unique_values\": 2628,\n        \"samples\": [\n          \"Miss Congeniality\",\n          \"Romeo + Juliet\",\n          \"Star Wars: Episode III - Revenge of the Sith\"\n        ],\n        \"semantic_type\": \"\",\n        \"description\": \"\"\n      }\n    }\n  ]\n}"
            }
          },
          "metadata": {},
          "execution_count": 12
        }
      ]
    },
    {
      "cell_type": "markdown",
      "source": [
        "Есть 2 типа коллаборативной фильтрации: **Memory-Based Collaborative filtering** и **Model-Based Collaborative filtering**. Будем рассматривать оба метода, сравнивая их по метрике RMSE."
      ],
      "metadata": {
        "id": "OQBw-E8BGuNZ"
      }
    },
    {
      "cell_type": "markdown",
      "source": [
        "Для оценок качества моделей будем использовать:"
      ],
      "metadata": {
        "id": "4hHZc1LzIbtd"
      }
    },
    {
      "cell_type": "markdown",
      "source": [
        "$$ RMSE = \\sqrt{\\frac{1}{N}\\sum (x_i - \\hat{x}_i)^2} $$"
      ],
      "metadata": {
        "id": "Y4QGJ7utHhus"
      }
    },
    {
      "cell_type": "code",
      "source": [
        "from sklearn.metrics import mean_squared_error\n",
        "from math import sqrt\n",
        "\n",
        "def rmse(pred, truth):\n",
        "  predictions = np.nan_to_num(pred)[truth.nonzero()].flatten()\n",
        "  truth = np.nan_to_num(truth)[truth.nonzero()].flatten()\n",
        "  return sqrt(mean_squared_error(truth, predictions))"
      ],
      "metadata": {
        "id": "SCLq2HTuPsZN"
      },
      "execution_count": null,
      "outputs": []
    },
    {
      "cell_type": "markdown",
      "source": [
        "# Memory-Based Collaborative filtering\n",
        "Есть 2 подхода:\n",
        "1.  **user-user filtering** - рекомендации, основанные на пользователях, то есть мы ищем похожих пользователей.\n",
        "2.  **item-item filtering** -  рекмоендации, основанные на объектах, ищем похожие фильмы.\n",
        "\n",
        "\n",
        "Оба подхода основаны на мере схожести объектов, есть различные идеи для измерения этого. Один из них-это рассчет косинусного расстояние между векторами, в которых хранится описание пользователей и фильмов."
      ],
      "metadata": {
        "id": "ppiddcRP5yrr"
      }
    },
    {
      "cell_type": "markdown",
      "source": [
        "$$ s_{u}^{cos}= \\frac{A\\cdot  B}{\\left \\| A \\right \\| \\left \\| B \\right \\|} = \\frac{\\sum A_{i} B_{i}}{\\sqrt{\\sum A_{i}^2 \\sum B_{i}^2}} $$"
      ],
      "metadata": {
        "id": "4fkL7Fp-_iRU"
      }
    },
    {
      "cell_type": "markdown",
      "source": [
        "В обоих случаях нам необходимо создать user-item матрицу в каждой ячейке рейтинг от m-го пользователя n-му фильму.\n",
        "Матрицы в подходах отличаются тем, что в user-item в строках находятся пользователи, в столбцах находятся фильмы.\n",
        "В item-item в строках фильмы, в столбцах пользователи.\n",
        "\n",
        "Для начала подготовим и сформируем матрицы:\n"
      ],
      "metadata": {
        "id": "NjCA1lkJ_2ze"
      }
    },
    {
      "cell_type": "code",
      "source": [
        "n_users = len(info['userId'].unique())\n",
        "n_movies = len(info['movieId'].unique())\n",
        "\n",
        "train_matrix, test_matrix = np.zeros((n_users , n_movies)), np.zeros((n_users , n_movies))\n",
        "\n",
        "for line in train_df.itertuples():\n",
        "  train_matrix[line[1] - 1, line[2] - 1] = line[3]\n",
        "\n",
        "for line in test_df.itertuples():\n",
        "  test_matrix[line[1] - 1, line[2] - 1] = line[3]"
      ],
      "metadata": {
        "id": "s738xscNByYV"
      },
      "execution_count": null,
      "outputs": []
    },
    {
      "cell_type": "markdown",
      "source": [
        "Посчитаем косинусное расстояние:"
      ],
      "metadata": {
        "id": "ksughWzEFB7t"
      }
    },
    {
      "cell_type": "code",
      "source": [
        "from  sklearn.metrics.pairwise import pairwise_distances\n",
        "\n",
        "user_sim = pairwise_distances(train_matrix, metric='cosine')\n",
        "item_sim = pairwise_distances(train_matrix.T, metric='cosine')"
      ],
      "metadata": {
        "id": "R6Xk3fvVFFnz"
      },
      "execution_count": null,
      "outputs": []
    },
    {
      "cell_type": "markdown",
      "source": [
        "В коде:\n",
        "\n",
        "* user_sim[i][j] — косинусное расстояние между i-ой строкой и j-ой строкой;\n",
        "* item_sim[i][j] — косинусное расстояние между i-ой и j-ой колонками.\n",
        "\n",
        "Будем считать, что косинусное расстояние обозначает степень похожести: чем пользователи или фильмы более похожи друг на друга — тем меньше будет косинусное расстояние."
      ],
      "metadata": {
        "id": "4dgkrnISFXMC"
      }
    },
    {
      "cell_type": "markdown",
      "source": [
        "Есть несколько моделей для реализации этих подходов, в этой работе будет рассмотрено 3."
      ],
      "metadata": {
        "id": "jLYOI144F5XS"
      }
    },
    {
      "cell_type": "markdown",
      "source": [
        "1. Первый вариант.\n",
        "\n",
        "Это простой вариант реализации, основанный на среднем арифмитическом значении рейтинга u фильма i от n зрителей похожих на u-го пользователя. Похожих пользователей мы возьмем с меньшим значением косинусного расстояния.\n",
        "\n",
        "$$ R = \\frac{\\sum r_k}{N} $$\n",
        "\n",
        "*   U - пользователь, для которого предсказывают рейтинг\n",
        "*   i - фильм, для которого предсказывают оценку пользователя U\n",
        "*   $R$ - предсказанный рейтинг пользователя U за i-й фильм\n",
        "*   $r_{k}$ - рейтинг k-го пользователя, похожего на U-го, за i-й фильм\n",
        "*   $\\sum r_{k}$ - сумма рейтингов пользователей, похожих на пользователя U\n",
        "*   $N$ - количество похожих пользователей на пользователя U"
      ],
      "metadata": {
        "id": "bKze0o9aGpH5"
      }
    },
    {
      "cell_type": "code",
      "source": [
        "def first_model(top):\n",
        "  predict = np.zeros((n_users, n_movies))\n",
        "  for i in range(n_users):\n",
        "    ind_sim = user_sim[i].argsort()[1: top + 1]\n",
        "    ratings_sim = train_matrix[ind_sim]\n",
        "    predict[i] = ratings_sim.sum(axis=0) / top\n",
        "  return predict\n",
        "\n",
        "def first_model_item(top):\n",
        "  predict = np.zeros((n_movies, n_users))\n",
        "  for i in range(n_movies):\n",
        "    ind_sim = item_sim[i].argsort()[1: top + 1]\n",
        "    ratings = train_matrix.T[ind_sim]\n",
        "    predict[i] = ratings.sum(axis=0) / top\n",
        "  return predict.T"
      ],
      "metadata": {
        "id": "wc7czjreFuVU"
      },
      "execution_count": null,
      "outputs": []
    },
    {
      "cell_type": "code",
      "source": [
        "naive_predict = first_model(7)\n",
        "naive_predict_item = first_model_item(7)\n",
        "print(f'RMSE user-user: {rmse(naive_predict, test_matrix)}')\n",
        "print(f'RMSE item-item: {rmse(naive_predict_item, test_matrix)}')"
      ],
      "metadata": {
        "colab": {
          "base_uri": "https://localhost:8080/"
        },
        "id": "uBgWFIr5fq1a",
        "outputId": "225023e5-14e6-4859-968f-0ef5ad881e49"
      },
      "execution_count": null,
      "outputs": [
        {
          "output_type": "stream",
          "name": "stdout",
          "text": [
            "RMSE user-user: 2.8396588010390285\n",
            "RMSE item-item: 2.9696794537594347\n"
          ]
        }
      ]
    },
    {
      "cell_type": "markdown",
      "source": [
        "2.   Второй вариант.\n",
        "\n",
        "Будем учитывать метрику похожести. То есть будем опираться на 2 матрицы: матрицу похожести и матрицу и оценок похожих пользователей.\n",
        "\n"
      ],
      "metadata": {
        "id": "GzKDcgk6n3HY"
      }
    },
    {
      "cell_type": "markdown",
      "source": [
        "$$ R = \\frac{\\sum (Sim_k \\cdot r_k)}{\\sum Sim_k} $$\n",
        "\n",
        "\n",
        "*   $ R$ - предсказанный рейтинг пользователя U за i фильм.\n",
        "*   $Sim_k$ - косинусные расстояния k похожих пользователей/фильмов.\n",
        "*   $r_k$ - оценка пользователя k за i фильм."
      ],
      "metadata": {
        "id": "6TU36FJgErT2"
      }
    },
    {
      "cell_type": "markdown",
      "source": [
        "В этой модели чем больше похожи пользователи/фильмы, тем сильнее оценка будет влиять на предсказание."
      ],
      "metadata": {
        "id": "glXjgxkUDfEd"
      }
    },
    {
      "cell_type": "code",
      "source": [
        "def second_model(top):\n",
        "  predict = np.zeros((n_users, n_movies))\n",
        "\n",
        "  for i in range(n_users):\n",
        "    ind_sim = user_sim[i].argsort()[1: top + 1]\n",
        "    ratings = train_matrix[ind_sim]\n",
        "    predict[i] = np.dot(user_sim[i][ind_sim], ratings) / user_sim[i][ind_sim].sum()\n",
        "  return predict\n",
        "\n",
        "def second_model_item(top):\n",
        "  predict = np.zeros((n_movies, n_users))\n",
        "\n",
        "  for i in range(n_movies):\n",
        "    ind_sim = item_sim[i].argsort()[1: top + 1]\n",
        "    ratings = train_matrix.T[ind_sim]\n",
        "    predict[i] = np.dot(item_sim[i][ind_sim], ratings) / item_sim[i][ind_sim].sum()\n",
        "  return predict.T"
      ],
      "metadata": {
        "id": "brYh8550om2G"
      },
      "execution_count": null,
      "outputs": []
    },
    {
      "cell_type": "code",
      "source": [
        "second_predict = second_model(7)\n",
        "second_predict_item = second_model_item(7)\n",
        "print(f'RMSE user-user: {rmse(second_predict, test_matrix)}')\n",
        "print(f'RMSE item-item: {rmse(second_predict_item, test_matrix)}')"
      ],
      "metadata": {
        "colab": {
          "base_uri": "https://localhost:8080/"
        },
        "id": "6UTIgjq8JCvY",
        "outputId": "bf05ccfe-3347-4d7e-e2c5-29c8d46a76dd"
      },
      "execution_count": null,
      "outputs": [
        {
          "output_type": "stream",
          "name": "stdout",
          "text": [
            "RMSE user-user: 2.819340586569913\n",
            "RMSE item-item: 2.9577243006586227\n"
          ]
        }
      ]
    },
    {
      "cell_type": "markdown",
      "source": [
        "3.   Третий вариант.\n",
        "\n",
        "\n",
        "Третий вариант основан на том, что учитывается среднее значение оценок u-го пользователя и среднее значения k похожих пользователей/фильмов и , как и во 2-м варианте, учитываются . Это учитывается потому, что одни пользователи всегде ставят оценки 4 и 5, а некоторые в диапазоне [1,3]. Это помогает более непредвзято прогнозировать.\n",
        "\n",
        "$$ R = \\overline{R} + \\frac{\\sum \\left(Sim_k \\cdot \\left(r_k - \\overline{r_k}\\right)\\right)}{\\sum Sim} $$\n",
        "\n",
        "\n",
        "\n",
        "*  $\\overline{R}$ - средний рейтинг, который ставит u-пользователь  просмотренным фильмам.\n",
        "*  $\\overline{r_k}$ - средний рейтинг, который ставит k-пользователь просмотренным фильмам.\n",
        "\n"
      ],
      "metadata": {
        "id": "1nLwWe7jGyRZ"
      }
    },
    {
      "cell_type": "code",
      "source": [
        "def third_model(top):\n",
        "  predict = np.zeros((n_users, n_movies))\n",
        "  for i in range(n_users):\n",
        "    ind_sim = user_sim[i].argsort()[1: top + 1]\n",
        "    ratings = train_matrix[ind_sim]\n",
        "    mean_rating = np.array([x for x in train_matrix[i] if x > 0]).mean()\n",
        "    diff_ratings = ratings - train_matrix[ind_sim].mean()\n",
        "    predict[i] = mean_rating  + np.dot(user_sim[i][ind_sim], diff_ratings) / user_sim[i][ind_sim ].sum()\n",
        "  return predict\n",
        "\n",
        "def third_model_item(top):\n",
        "  predict = np.zeros((n_movies, n_users))\n",
        "  for i in range(n_movies):\n",
        "    ind_sim = item_sim[i].argsort()[1: top + 1]\n",
        "    ratings = train_matrix.T[ind_sim]\n",
        "    mean_rating = np.array([x for x in train_matrix.T[i] if x > 0]).mean()\n",
        "    diff_ratings = ratings - train_matrix.T[ind_sim].mean()\n",
        "    predict[i] = mean_rating + np.dot(item_sim[i][ind_sim], diff_ratings) / item_sim[i][ind_sim].sum()\n",
        "  return predict.T"
      ],
      "metadata": {
        "id": "9kd5F58FL-lp"
      },
      "execution_count": null,
      "outputs": []
    },
    {
      "cell_type": "code",
      "source": [
        "third_predict = third_model(10)\n",
        "third_predict_items = third_model_item(10)\n",
        "print(f'RMSE user-user: {rmse(third_predict, test_matrix)}')\n",
        "print(f'RMSE item-item: {rmse(third_predict_items, test_matrix)}')"
      ],
      "metadata": {
        "colab": {
          "base_uri": "https://localhost:8080/"
        },
        "id": "WvjBp195PKSn",
        "outputId": "9ee6b30e-78a7-4445-eba8-4f8da8161b97"
      },
      "execution_count": null,
      "outputs": [
        {
          "output_type": "stream",
          "name": "stdout",
          "text": [
            "RMSE user-user: 1.474293382418934\n",
            "RMSE item-item: 1.4703611265892536\n"
          ]
        }
      ]
    },
    {
      "cell_type": "markdown",
      "source": [
        "#  Model-Based Collaborative filtering\n",
        "\n",
        "Oснован на разложении матриц. В данной работе используется метод разложения, который называется **сингулярное разложение**  (SVD, Singular Value Decomposition). Смысл этого разложения в том, что исходную матрицу $X$ мы разбиваем на произведение ортогональных матриц $U$ и $V^T$ и диагональной матрицы $Σ$."
      ],
      "metadata": {
        "id": "IlzFoRI1Qtzw"
      }
    },
    {
      "cell_type": "markdown",
      "source": [
        "$$ X = UΣV^T$$"
      ],
      "metadata": {
        "id": "ioV7fiXYSB9x"
      }
    },
    {
      "cell_type": "markdown",
      "source": [
        "Пусть $X$ — разреженная (в основном состоящая из нулей) матрица user-item.\n",
        "\n",
        "В SVD лямбды в матрице $Σ$ (диагональные элементы) упорядочены по невозрастанию.\n",
        "\n",
        "На основе SVD существует метод PCA, в котором из матрицы $Σ$ берут первые $d$ лямбд, а остальные полагаются равными 0. Это равносильно тому, что в $U$ и $V^T$ оставляются только первые $d$ столбцов. В результате получаем приближенную матрицу $\\tilde{X}$, которая хорошо описывает исходную матрицу $X$ в меньшей размерности."
      ],
      "metadata": {
        "id": "wB7DSKBmSLqJ"
      }
    },
    {
      "cell_type": "markdown",
      "source": [
        "**SVD в системах рекомендаций**:\n",
        "\n",
        "Мы приблизительно разложили исходную матрицу в произведение трех матриц. Давайте обозначим произведение первых двух сразу за одну матрицу:\n"
      ],
      "metadata": {
        "id": "nKzJI7xwVntk"
      }
    },
    {
      "cell_type": "markdown",
      "source": [
        "$$ R = UV$$"
      ],
      "metadata": {
        "id": "hK-C-bt6WG8m"
      }
    },
    {
      "cell_type": "markdown",
      "source": [
        "Размерность матриц: $U$: $n×d$, $V$: $d×m$, где d-это количество скрытых интересов пользователей/ свойств фильмов.\n",
        "\n",
        "Если мы хотим предсказать оценку $u$-го пользователя для $i$-го фильма, мы используем вектор $\\mathbf{p_u}$ из матрицы $U$, который описывает эмбеддинги $u$-го пользователя, и вектор $\\mathbf{q_i}$ из матрицы $V$, который описывает эмбеддинги фильма $i$. Их скалярное произведение даст предсказанный рейтинг:\n"
      ],
      "metadata": {
        "id": "KQEt4etDXZZw"
      }
    },
    {
      "cell_type": "markdown",
      "source": [
        "$$ \\hat{r}_{ui} = <{p_u},{q_i}>$$"
      ],
      "metadata": {
        "id": "aPP8DV90WbR1"
      }
    },
    {
      "cell_type": "markdown",
      "source": [
        "Алгоритм достаточно простой, но дает хорошие результаты. Он не просто позволяет нам предсказывать оценки. С его помощью мы можем по истории пользователей выявлять скрытые признаки объектов и интересы пользователей.\n",
        "\n",
        "\n",
        "Для того получить модель, которая будет предсказывать рейтинги пользователей, необходимо найти оптимальные параметры, при которых модель сможет лучше предсказывать рейтинги.\n",
        "\n",
        "У нас есть матрица $R$, в которой уже есть проставленные рейтинги пользователями. Тогда будем решать задачу минимизации ошибки между проставленным рейтингом $u$-го пользователя для $i$-го фильма и предсказанным нашей моделью. Для того, чтобы модель не переобучалась под трейн, нужно добавить регулязационный член."
      ],
      "metadata": {
        "id": "9Juvf2GYY0-Q"
      }
    },
    {
      "cell_type": "markdown",
      "source": [
        "Итак,  хотим научиться как можно лучше приближать известные рейтинги, тогда получим такую функцию потерь:\n"
      ],
      "metadata": {
        "id": "H-BzQUXsakj2"
      }
    },
    {
      "cell_type": "markdown",
      "source": [
        "$L =\\sum_{(u, i) \\in K}  (r_{ui} -  \\hat{r}_{ui})^2 + \\lambda(||\\mathbf{p_u}||^2$ + $||\\mathbf{q_i}||^2)$"
      ],
      "metadata": {
        "id": "wtiErK5XakVE"
      }
    },
    {
      "cell_type": "markdown",
      "source": [
        "$K$ — множество индексов $(u, i)$, для которых известны реальные рейтинги.\n",
        "\n",
        "Оптимальные параметры можно найти с помощью стохастического градиентного спуска:\n",
        "\n",
        "\n",
        "${p}_{uk} = {p}_{uk} + \\text{step} \\cdot \\left( r_{ui} - \\hat{r}_{ui} \\right) \\cdot {q}_{ki} - \\lambda{p}_{uk}$\n",
        "\n",
        "${q}_{ki} = {q}_{ki} + \\text{step} \\cdot \\left( r_{ui} - \\hat{r}_{ui} \\right) \\cdot {p}_{uk} - \\lambda{q}_{ki}$"
      ],
      "metadata": {
        "id": "WZQiWUCbeIZt"
      }
    },
    {
      "cell_type": "code",
      "source": [
        "from surprise import Dataset, Reader, accuracy, SVD\n",
        "from surprise.model_selection import train_test_split\n",
        "\n",
        "\n",
        "def SVD_model(df):\n",
        "    reader = Reader(rating_scale=(0.5, 5))\n",
        "    data = Dataset.load_from_df(info[['userId', 'movieId', 'rating']], reader)\n",
        "    trainset, testset = train_test_split(data, test_size=0.20)\n",
        "\n",
        "    algo = SVD()\n",
        "    algo.fit(trainset)\n",
        "    predictions = algo.test(testset)\n",
        "    rmse = accuracy.rmse(predictions, verbose=True)\n",
        "\n",
        "    return algo"
      ],
      "metadata": {
        "id": "U1KPswguUreI"
      },
      "execution_count": null,
      "outputs": []
    },
    {
      "cell_type": "code",
      "source": [
        "svd_model = SVD_model(info)"
      ],
      "metadata": {
        "colab": {
          "base_uri": "https://localhost:8080/"
        },
        "id": "mr1CttswVdOt",
        "outputId": "5e29ea62-355a-4183-d50c-1958499ca827"
      },
      "execution_count": null,
      "outputs": [
        {
          "output_type": "stream",
          "name": "stdout",
          "text": [
            "RMSE: 0.8874\n"
          ]
        }
      ]
    },
    {
      "cell_type": "markdown",
      "source": [
        "Проблемы этого метода заключаются в том, что он, во-первых, работает очень медленно, когда очень много данных, и, во-вторых, находит локальные, а не глобальные минимумы. Вторая проблема не так страшна, т.к. в нашем случае значение функционала в локальных минимумах оказывается близким к глобальному оптимуму."
      ],
      "metadata": {
        "id": "iBSstqkte3t7"
      }
    },
    {
      "cell_type": "markdown",
      "source": [
        "**Alternating Least Squares (ALS)**\n",
        "\n",
        "Есть более быстрые и надёжные способы. Если мысленно заморозить параметры, соответствующие латентным факторам пользователей, задача оптимизации латентных представлений объектов сведётся к задаче наименьших квадратов, для которой мы знаем точное решение.\n",
        "Итоговый процесс оптимизации функции потерь будет иметь следующий вид.\n",
        "В цикле до сходимости:\n",
        "*   Фиксируем матрицу $U$ (скрытые представления пользователей)\n",
        "*   Решаем задачу L2-регуляризованной регрессии для каждого фильма и находим оптимальную матрицу $V$\n",
        "*   Фиксируем матрицу $V$ (скрытые представления объектов)\n",
        "*  Решаем задачу L2-регуляризованной регрессии для каждого пользователя и находим оптимальную матрицу $U$\n",
        "\n",
        "Решение, получаемое путём попеременного вычисления точных аналитических решений, обычно точнее тех, что получаются с помощью наивного градиентного спуска. Более того, данное решение имеет эффективную реализацию, позволяющую использовать преимущества параллельных вычислений."
      ],
      "metadata": {
        "id": "bwtmMSq1h_e_"
      }
    },
    {
      "cell_type": "code",
      "source": [
        "from pyspark.sql import SparkSession\n",
        "from pyspark.ml.evaluation import RegressionEvaluator\n",
        "from pyspark.ml.recommendation import ALS\n",
        "\n",
        "spark = SparkSession.builder.appName(\"ExplicitALS\").getOrCreate()\n",
        "\n",
        "spark_df = spark.createDataFrame(info[['userId', 'movieId', 'rating']])\n",
        "\n",
        "\n",
        "als = ALS(maxIter=10, regParam=0.1, userCol=\"userId\", itemCol=\"movieId\", ratingCol=\"rating\", implicitPrefs=False)\n",
        "\n",
        "train_als, test_als = spark_df.randomSplit([0.8, 0.2], seed=42)\n",
        "\n",
        "als_model = als.fit(train_als)\n",
        "predictions = als_model.transform(test_als)\n",
        "\n",
        "predictions_array = np.array(predictions.select(\"prediction\").rdd.flatMap(lambda x: x).collect())\n",
        "truth_array = np.array(test_als.select(\"rating\").rdd.flatMap(lambda x: x).collect())\n",
        "\n",
        "metric = rmse(predictions_array, truth_array)\n",
        "\n",
        "print(f\"RMSE: {metric}\")"
      ],
      "metadata": {
        "colab": {
          "base_uri": "https://localhost:8080/"
        },
        "id": "cn9bIJtXOSoJ",
        "outputId": "f2576647-8094-4358-be47-267a2252f87d"
      },
      "execution_count": null,
      "outputs": [
        {
          "output_type": "stream",
          "name": "stdout",
          "text": [
            "RMSE: 1.3693244653563605\n"
          ]
        }
      ]
    },
    {
      "cell_type": "markdown",
      "source": [
        "Теперь можно сравнить метрику RMSE у трех моделей:\n",
        "\n",
        "1.   **Memory-based (user-user и item-item): 1.47**\n",
        "\n",
        "Прост в понимании. Не требует предварительной обработки данных или обучение модели. Чувствителен к разреженности данных: если недостаточно взаимодействия пользователя и фильма, то вычисление сходства может стать недостоверным. Также при увеличении объемов данных, возрастает время вычисления данных.\n",
        "\n",
        "2.   **SVD: 0.89**\n",
        "\n",
        "Наилучший показатель RMSE. SVD хорошо подходит для факторизации матрицы, извлекая скрытые связи между пользователями и фильмами, что полезно в разреженных данных. Также уменьшает размерность данных, что позволяет ускорить вычисления. Однако, вычисление стохастического градиентного спуска требует большего времени-> увеличивает скорость работы. Также при добавлении новых пользователей/фильмов, придется пересчитывать все заново-долго и дорого.\n",
        "\n",
        "\n",
        "3.   **ALS: 1.37**\n",
        "\n",
        "Может работать с разреженными данными, подобно SVD, но также оптимизирован для обработки больших объемов данных.Подходит для явных и неявных взаимодействий.\n",
        "\n",
        "Основной недостаток методов коллаборативной рекомендации то, что они используют лишь информацию о взаимодействии пользователей и объектов, но не о них самих. Для этого используют content-based,которые используют атрибуты объектов и пользователей.\n"
      ],
      "metadata": {
        "id": "zTvALokI1aNE"
      }
    },
    {
      "cell_type": "markdown",
      "source": [
        "Выведем топ-10 рекомендованных фильмов для пользователя 1, используя метод с наименьшим значением метрики RMSE."
      ],
      "metadata": {
        "id": "M8PfWHmzTg07"
      }
    },
    {
      "cell_type": "code",
      "source": [
        "def generate_recommendations_svd(user_id, algo, df):\n",
        "    \"\"\"Выводим топ10 фильмов для пользователя\"\"\"\n",
        "    reader = Reader(rating_scale=(0.5, 5))\n",
        "    data = Dataset.load_from_df(df[['userId', 'movieId', 'rating']], reader)\n",
        "    trainset = data.build_full_trainset()\n",
        "    testset = trainset.build_anti_testset()\n",
        "    predictions = algo.test(testset)\n",
        "\n",
        "    user_predictions = [pred for pred in predictions if pred.uid == user_id]\n",
        "    user_predictions.sort(key=lambda x: x.est, reverse=True)\n",
        "    top_10_recommendations = user_predictions[:10]\n",
        "\n",
        "    print(f\"Top 10 рекомендаций для {user_id}:\")\n",
        "    for num, pred in enumerate(top_10_recommendations):\n",
        "        movie_title = df.loc[df['movieId'] == pred.iid, 'title'].values[0]\n",
        "        print(f\"{num}. {movie_title}, Estimated Rating: {pred.est:.2f}\")"
      ],
      "metadata": {
        "id": "ZvC3bm2LHS14"
      },
      "execution_count": null,
      "outputs": []
    },
    {
      "cell_type": "code",
      "source": [
        " generate_recommendations_svd(1, svd_model, info)"
      ],
      "metadata": {
        "colab": {
          "base_uri": "https://localhost:8080/"
        },
        "id": "Inywjo4kmkWt",
        "outputId": "848a546a-c701-449f-9443-c8094aa0042f"
      },
      "execution_count": null,
      "outputs": [
        {
          "output_type": "stream",
          "name": "stdout",
          "text": [
            "Top 10 рекомендаций для 1:\n",
            "Movie: 5 Card Stud, Estimated Rating: 4.19\n",
            "Movie: Sleepless in Seattle, Estimated Rating: 4.16\n",
            "Movie: Galaxy Quest, Estimated Rating: 4.15\n",
            "Movie: The Million Dollar Hotel, Estimated Rating: 4.12\n",
            "Movie: Madagascar, Estimated Rating: 4.11\n",
            "Movie: The Thomas Crown Affair, Estimated Rating: 4.10\n",
            "Movie: Pandora's Box, Estimated Rating: 3.98\n",
            "Movie: While You Were Sleeping, Estimated Rating: 3.98\n",
            "Movie: Once Were Warriors, Estimated Rating: 3.97\n",
            "Movie: Under the Sand, Estimated Rating: 3.95\n"
          ]
        }
      ]
    }
  ]
}